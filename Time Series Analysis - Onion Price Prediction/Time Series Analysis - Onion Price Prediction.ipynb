{
 "cells": [
  {
   "cell_type": "markdown",
   "metadata": {},
   "source": [
    "## Time Series Analysis - Onion Price Prediction\n",
    "\n",
    "Onion is an unavoidable recipe in the Indian dishes. India, being the second largest producer of Onion in the world, this mandatory vegetable is given the least importance in the indian markets in terms of protecting the mass production. As a result, there are fluctuations at times during the monsoon season.\n",
    "\n",
    "This project is a result to predict the Onion Price that will help the ordinary people to plan accordingly during the fluctuations."
   ]
  },
  {
   "cell_type": "markdown",
   "metadata": {},
   "source": [
    "### 1. Importing the necessary libraries"
   ]
  },
  {
   "cell_type": "code",
   "execution_count": 71,
   "metadata": {},
   "outputs": [],
   "source": [
    "#Importing the data preprocessing libraries\n",
    "import numpy as np\n",
    "import pandas as pd\n",
    "import matplotlib.pyplot as plt\n",
    "%matplotlib inline\n",
    "from matplotlib.pylab import rcParams\n",
    "\n",
    "#Import statsmodel libraries for time series analysis\n",
    "import statsmodels.api as sm\n",
    "import statsmodels.formula.api as smf\n",
    "from statsmodels.tsa.stattools import adfuller"
   ]
  },
  {
   "cell_type": "markdown",
   "metadata": {},
   "source": [
    "### 2. Loading the dataset"
   ]
  },
  {
   "cell_type": "code",
   "execution_count": 72,
   "metadata": {},
   "outputs": [],
   "source": [
    "df = pd.read_csv('https://raw.githubusercontent.com/insaid2018/Term-3/master/Data/Assignment/MonthWiseMarketArrivals_Clean.csv')"
   ]
  },
  {
   "cell_type": "markdown",
   "metadata": {},
   "source": [
    "#### 2.1 Checking the Top 5 rows in the dataset"
   ]
  },
  {
   "cell_type": "code",
   "execution_count": 73,
   "metadata": {},
   "outputs": [
    {
     "data": {
      "text/html": [
       "<div>\n",
       "<style scoped>\n",
       "    .dataframe tbody tr th:only-of-type {\n",
       "        vertical-align: middle;\n",
       "    }\n",
       "\n",
       "    .dataframe tbody tr th {\n",
       "        vertical-align: top;\n",
       "    }\n",
       "\n",
       "    .dataframe thead th {\n",
       "        text-align: right;\n",
       "    }\n",
       "</style>\n",
       "<table border=\"1\" class=\"dataframe\">\n",
       "  <thead>\n",
       "    <tr style=\"text-align: right;\">\n",
       "      <th></th>\n",
       "      <th>market</th>\n",
       "      <th>month</th>\n",
       "      <th>year</th>\n",
       "      <th>quantity</th>\n",
       "      <th>priceMin</th>\n",
       "      <th>priceMax</th>\n",
       "      <th>priceMod</th>\n",
       "      <th>state</th>\n",
       "      <th>city</th>\n",
       "      <th>date</th>\n",
       "    </tr>\n",
       "  </thead>\n",
       "  <tbody>\n",
       "    <tr>\n",
       "      <th>0</th>\n",
       "      <td>ABOHAR(PB)</td>\n",
       "      <td>January</td>\n",
       "      <td>2005</td>\n",
       "      <td>2350</td>\n",
       "      <td>404</td>\n",
       "      <td>493</td>\n",
       "      <td>446</td>\n",
       "      <td>PB</td>\n",
       "      <td>ABOHAR</td>\n",
       "      <td>January-2005</td>\n",
       "    </tr>\n",
       "    <tr>\n",
       "      <th>1</th>\n",
       "      <td>ABOHAR(PB)</td>\n",
       "      <td>January</td>\n",
       "      <td>2006</td>\n",
       "      <td>900</td>\n",
       "      <td>487</td>\n",
       "      <td>638</td>\n",
       "      <td>563</td>\n",
       "      <td>PB</td>\n",
       "      <td>ABOHAR</td>\n",
       "      <td>January-2006</td>\n",
       "    </tr>\n",
       "    <tr>\n",
       "      <th>2</th>\n",
       "      <td>ABOHAR(PB)</td>\n",
       "      <td>January</td>\n",
       "      <td>2010</td>\n",
       "      <td>790</td>\n",
       "      <td>1283</td>\n",
       "      <td>1592</td>\n",
       "      <td>1460</td>\n",
       "      <td>PB</td>\n",
       "      <td>ABOHAR</td>\n",
       "      <td>January-2010</td>\n",
       "    </tr>\n",
       "    <tr>\n",
       "      <th>3</th>\n",
       "      <td>ABOHAR(PB)</td>\n",
       "      <td>January</td>\n",
       "      <td>2011</td>\n",
       "      <td>245</td>\n",
       "      <td>3067</td>\n",
       "      <td>3750</td>\n",
       "      <td>3433</td>\n",
       "      <td>PB</td>\n",
       "      <td>ABOHAR</td>\n",
       "      <td>January-2011</td>\n",
       "    </tr>\n",
       "    <tr>\n",
       "      <th>4</th>\n",
       "      <td>ABOHAR(PB)</td>\n",
       "      <td>January</td>\n",
       "      <td>2012</td>\n",
       "      <td>1035</td>\n",
       "      <td>523</td>\n",
       "      <td>686</td>\n",
       "      <td>605</td>\n",
       "      <td>PB</td>\n",
       "      <td>ABOHAR</td>\n",
       "      <td>January-2012</td>\n",
       "    </tr>\n",
       "  </tbody>\n",
       "</table>\n",
       "</div>"
      ],
      "text/plain": [
       "       market    month  year  quantity  priceMin  priceMax  priceMod state  \\\n",
       "0  ABOHAR(PB)  January  2005      2350       404       493       446    PB   \n",
       "1  ABOHAR(PB)  January  2006       900       487       638       563    PB   \n",
       "2  ABOHAR(PB)  January  2010       790      1283      1592      1460    PB   \n",
       "3  ABOHAR(PB)  January  2011       245      3067      3750      3433    PB   \n",
       "4  ABOHAR(PB)  January  2012      1035       523       686       605    PB   \n",
       "\n",
       "     city          date  \n",
       "0  ABOHAR  January-2005  \n",
       "1  ABOHAR  January-2006  \n",
       "2  ABOHAR  January-2010  \n",
       "3  ABOHAR  January-2011  \n",
       "4  ABOHAR  January-2012  "
      ]
     },
     "execution_count": 73,
     "metadata": {},
     "output_type": "execute_result"
    }
   ],
   "source": [
    "df.head()"
   ]
  },
  {
   "cell_type": "markdown",
   "metadata": {},
   "source": [
    "#### 2.2 Checking the Bottom 5 rows in the dataset"
   ]
  },
  {
   "cell_type": "code",
   "execution_count": 74,
   "metadata": {},
   "outputs": [
    {
     "data": {
      "text/html": [
       "<div>\n",
       "<style scoped>\n",
       "    .dataframe tbody tr th:only-of-type {\n",
       "        vertical-align: middle;\n",
       "    }\n",
       "\n",
       "    .dataframe tbody tr th {\n",
       "        vertical-align: top;\n",
       "    }\n",
       "\n",
       "    .dataframe thead th {\n",
       "        text-align: right;\n",
       "    }\n",
       "</style>\n",
       "<table border=\"1\" class=\"dataframe\">\n",
       "  <thead>\n",
       "    <tr style=\"text-align: right;\">\n",
       "      <th></th>\n",
       "      <th>market</th>\n",
       "      <th>month</th>\n",
       "      <th>year</th>\n",
       "      <th>quantity</th>\n",
       "      <th>priceMin</th>\n",
       "      <th>priceMax</th>\n",
       "      <th>priceMod</th>\n",
       "      <th>state</th>\n",
       "      <th>city</th>\n",
       "      <th>date</th>\n",
       "    </tr>\n",
       "  </thead>\n",
       "  <tbody>\n",
       "    <tr>\n",
       "      <th>10222</th>\n",
       "      <td>YEOLA(MS)</td>\n",
       "      <td>December</td>\n",
       "      <td>2011</td>\n",
       "      <td>131326</td>\n",
       "      <td>282</td>\n",
       "      <td>612</td>\n",
       "      <td>526</td>\n",
       "      <td>MS</td>\n",
       "      <td>YEOLA</td>\n",
       "      <td>December-2011</td>\n",
       "    </tr>\n",
       "    <tr>\n",
       "      <th>10223</th>\n",
       "      <td>YEOLA(MS)</td>\n",
       "      <td>December</td>\n",
       "      <td>2012</td>\n",
       "      <td>207066</td>\n",
       "      <td>485</td>\n",
       "      <td>1327</td>\n",
       "      <td>1136</td>\n",
       "      <td>MS</td>\n",
       "      <td>YEOLA</td>\n",
       "      <td>December-2012</td>\n",
       "    </tr>\n",
       "    <tr>\n",
       "      <th>10224</th>\n",
       "      <td>YEOLA(MS)</td>\n",
       "      <td>December</td>\n",
       "      <td>2013</td>\n",
       "      <td>215883</td>\n",
       "      <td>472</td>\n",
       "      <td>1427</td>\n",
       "      <td>1177</td>\n",
       "      <td>MS</td>\n",
       "      <td>YEOLA</td>\n",
       "      <td>December-2013</td>\n",
       "    </tr>\n",
       "    <tr>\n",
       "      <th>10225</th>\n",
       "      <td>YEOLA(MS)</td>\n",
       "      <td>December</td>\n",
       "      <td>2014</td>\n",
       "      <td>201077</td>\n",
       "      <td>446</td>\n",
       "      <td>1654</td>\n",
       "      <td>1456</td>\n",
       "      <td>MS</td>\n",
       "      <td>YEOLA</td>\n",
       "      <td>December-2014</td>\n",
       "    </tr>\n",
       "    <tr>\n",
       "      <th>10226</th>\n",
       "      <td>YEOLA(MS)</td>\n",
       "      <td>December</td>\n",
       "      <td>2015</td>\n",
       "      <td>223315</td>\n",
       "      <td>609</td>\n",
       "      <td>1446</td>\n",
       "      <td>1126</td>\n",
       "      <td>MS</td>\n",
       "      <td>YEOLA</td>\n",
       "      <td>December-2015</td>\n",
       "    </tr>\n",
       "  </tbody>\n",
       "</table>\n",
       "</div>"
      ],
      "text/plain": [
       "          market     month  year  quantity  priceMin  priceMax  priceMod  \\\n",
       "10222  YEOLA(MS)  December  2011    131326       282       612       526   \n",
       "10223  YEOLA(MS)  December  2012    207066       485      1327      1136   \n",
       "10224  YEOLA(MS)  December  2013    215883       472      1427      1177   \n",
       "10225  YEOLA(MS)  December  2014    201077       446      1654      1456   \n",
       "10226  YEOLA(MS)  December  2015    223315       609      1446      1126   \n",
       "\n",
       "      state   city           date  \n",
       "10222    MS  YEOLA  December-2011  \n",
       "10223    MS  YEOLA  December-2012  \n",
       "10224    MS  YEOLA  December-2013  \n",
       "10225    MS  YEOLA  December-2014  \n",
       "10226    MS  YEOLA  December-2015  "
      ]
     },
     "execution_count": 74,
     "metadata": {},
     "output_type": "execute_result"
    }
   ],
   "source": [
    "df.tail()"
   ]
  },
  {
   "cell_type": "markdown",
   "metadata": {},
   "source": [
    "### 3. Data Pre-processing"
   ]
  },
  {
   "cell_type": "markdown",
   "metadata": {},
   "source": [
    "#### 3.1 Converting the \"date\" column from string type to the date type"
   ]
  },
  {
   "cell_type": "code",
   "execution_count": 75,
   "metadata": {},
   "outputs": [
    {
     "data": {
      "text/plain": [
       "0   2005-01-01\n",
       "1   2006-01-01\n",
       "2   2010-01-01\n",
       "3   2011-01-01\n",
       "4   2012-01-01\n",
       "Name: date, dtype: datetime64[ns]"
      ]
     },
     "execution_count": 75,
     "metadata": {},
     "output_type": "execute_result"
    }
   ],
   "source": [
    "df[\"date\"] = pd.to_datetime(df[\"date\"], infer_datetime_format = True)\n",
    "df[\"date\"].head()"
   ]
  },
  {
   "cell_type": "markdown",
   "metadata": {},
   "source": [
    "#### 3.2 Checking the min and max values in the converted date column"
   ]
  },
  {
   "cell_type": "code",
   "execution_count": 76,
   "metadata": {},
   "outputs": [
    {
     "name": "stdout",
     "output_type": "stream",
     "text": [
      "Minimum date :  1996-01-01 00:00:00\n",
      "Maximum date :  2016-02-01 00:00:00\n"
     ]
    }
   ],
   "source": [
    "print(\"Minimum date : \", df.date.min())\n",
    "print(\"Maximum date : \", df.date.max())"
   ]
  },
  {
   "cell_type": "markdown",
   "metadata": {},
   "source": [
    "#### 3.3 Creating a new column\n",
    "\n",
    "Creating a new column containing the number of days from the minimum date. Calculation is provided below.\n",
    "\n",
    "timeIndex = date in the current record - minimum date"
   ]
  },
  {
   "cell_type": "code",
   "execution_count": 77,
   "metadata": {},
   "outputs": [
    {
     "data": {
      "text/html": [
       "<div>\n",
       "<style scoped>\n",
       "    .dataframe tbody tr th:only-of-type {\n",
       "        vertical-align: middle;\n",
       "    }\n",
       "\n",
       "    .dataframe tbody tr th {\n",
       "        vertical-align: top;\n",
       "    }\n",
       "\n",
       "    .dataframe thead th {\n",
       "        text-align: right;\n",
       "    }\n",
       "</style>\n",
       "<table border=\"1\" class=\"dataframe\">\n",
       "  <thead>\n",
       "    <tr style=\"text-align: right;\">\n",
       "      <th></th>\n",
       "      <th>market</th>\n",
       "      <th>month</th>\n",
       "      <th>year</th>\n",
       "      <th>quantity</th>\n",
       "      <th>priceMin</th>\n",
       "      <th>priceMax</th>\n",
       "      <th>priceMod</th>\n",
       "      <th>state</th>\n",
       "      <th>city</th>\n",
       "      <th>date</th>\n",
       "      <th>timeIndex</th>\n",
       "    </tr>\n",
       "  </thead>\n",
       "  <tbody>\n",
       "    <tr>\n",
       "      <th>0</th>\n",
       "      <td>ABOHAR(PB)</td>\n",
       "      <td>January</td>\n",
       "      <td>2005</td>\n",
       "      <td>2350</td>\n",
       "      <td>404</td>\n",
       "      <td>493</td>\n",
       "      <td>446</td>\n",
       "      <td>PB</td>\n",
       "      <td>ABOHAR</td>\n",
       "      <td>2005-01-01</td>\n",
       "      <td>3288 days</td>\n",
       "    </tr>\n",
       "    <tr>\n",
       "      <th>1</th>\n",
       "      <td>ABOHAR(PB)</td>\n",
       "      <td>January</td>\n",
       "      <td>2006</td>\n",
       "      <td>900</td>\n",
       "      <td>487</td>\n",
       "      <td>638</td>\n",
       "      <td>563</td>\n",
       "      <td>PB</td>\n",
       "      <td>ABOHAR</td>\n",
       "      <td>2006-01-01</td>\n",
       "      <td>3653 days</td>\n",
       "    </tr>\n",
       "    <tr>\n",
       "      <th>2</th>\n",
       "      <td>ABOHAR(PB)</td>\n",
       "      <td>January</td>\n",
       "      <td>2010</td>\n",
       "      <td>790</td>\n",
       "      <td>1283</td>\n",
       "      <td>1592</td>\n",
       "      <td>1460</td>\n",
       "      <td>PB</td>\n",
       "      <td>ABOHAR</td>\n",
       "      <td>2010-01-01</td>\n",
       "      <td>5114 days</td>\n",
       "    </tr>\n",
       "    <tr>\n",
       "      <th>3</th>\n",
       "      <td>ABOHAR(PB)</td>\n",
       "      <td>January</td>\n",
       "      <td>2011</td>\n",
       "      <td>245</td>\n",
       "      <td>3067</td>\n",
       "      <td>3750</td>\n",
       "      <td>3433</td>\n",
       "      <td>PB</td>\n",
       "      <td>ABOHAR</td>\n",
       "      <td>2011-01-01</td>\n",
       "      <td>5479 days</td>\n",
       "    </tr>\n",
       "    <tr>\n",
       "      <th>4</th>\n",
       "      <td>ABOHAR(PB)</td>\n",
       "      <td>January</td>\n",
       "      <td>2012</td>\n",
       "      <td>1035</td>\n",
       "      <td>523</td>\n",
       "      <td>686</td>\n",
       "      <td>605</td>\n",
       "      <td>PB</td>\n",
       "      <td>ABOHAR</td>\n",
       "      <td>2012-01-01</td>\n",
       "      <td>5844 days</td>\n",
       "    </tr>\n",
       "  </tbody>\n",
       "</table>\n",
       "</div>"
      ],
      "text/plain": [
       "       market    month  year  quantity  priceMin  priceMax  priceMod state  \\\n",
       "0  ABOHAR(PB)  January  2005      2350       404       493       446    PB   \n",
       "1  ABOHAR(PB)  January  2006       900       487       638       563    PB   \n",
       "2  ABOHAR(PB)  January  2010       790      1283      1592      1460    PB   \n",
       "3  ABOHAR(PB)  January  2011       245      3067      3750      3433    PB   \n",
       "4  ABOHAR(PB)  January  2012      1035       523       686       605    PB   \n",
       "\n",
       "     city       date timeIndex  \n",
       "0  ABOHAR 2005-01-01 3288 days  \n",
       "1  ABOHAR 2006-01-01 3653 days  \n",
       "2  ABOHAR 2010-01-01 5114 days  \n",
       "3  ABOHAR 2011-01-01 5479 days  \n",
       "4  ABOHAR 2012-01-01 5844 days  "
      ]
     },
     "execution_count": 77,
     "metadata": {},
     "output_type": "execute_result"
    }
   ],
   "source": [
    "df[\"timeIndex\"] = df.date - df.date.min()\n",
    "df.head()"
   ]
  },
  {
   "cell_type": "markdown",
   "metadata": {},
   "source": [
    "#### 3.4 Making the \"date\" column as the index of the dataframe"
   ]
  },
  {
   "cell_type": "code",
   "execution_count": 78,
   "metadata": {},
   "outputs": [
    {
     "data": {
      "text/html": [
       "<div>\n",
       "<style scoped>\n",
       "    .dataframe tbody tr th:only-of-type {\n",
       "        vertical-align: middle;\n",
       "    }\n",
       "\n",
       "    .dataframe tbody tr th {\n",
       "        vertical-align: top;\n",
       "    }\n",
       "\n",
       "    .dataframe thead th {\n",
       "        text-align: right;\n",
       "    }\n",
       "</style>\n",
       "<table border=\"1\" class=\"dataframe\">\n",
       "  <thead>\n",
       "    <tr style=\"text-align: right;\">\n",
       "      <th></th>\n",
       "      <th>market</th>\n",
       "      <th>month</th>\n",
       "      <th>year</th>\n",
       "      <th>quantity</th>\n",
       "      <th>priceMin</th>\n",
       "      <th>priceMax</th>\n",
       "      <th>priceMod</th>\n",
       "      <th>state</th>\n",
       "      <th>city</th>\n",
       "      <th>date</th>\n",
       "      <th>timeIndex</th>\n",
       "    </tr>\n",
       "    <tr>\n",
       "      <th>date</th>\n",
       "      <th></th>\n",
       "      <th></th>\n",
       "      <th></th>\n",
       "      <th></th>\n",
       "      <th></th>\n",
       "      <th></th>\n",
       "      <th></th>\n",
       "      <th></th>\n",
       "      <th></th>\n",
       "      <th></th>\n",
       "      <th></th>\n",
       "    </tr>\n",
       "  </thead>\n",
       "  <tbody>\n",
       "    <tr>\n",
       "      <th>2005-01-01</th>\n",
       "      <td>ABOHAR(PB)</td>\n",
       "      <td>January</td>\n",
       "      <td>2005</td>\n",
       "      <td>2350</td>\n",
       "      <td>404</td>\n",
       "      <td>493</td>\n",
       "      <td>446</td>\n",
       "      <td>PB</td>\n",
       "      <td>ABOHAR</td>\n",
       "      <td>2005-01-01</td>\n",
       "      <td>3288 days</td>\n",
       "    </tr>\n",
       "    <tr>\n",
       "      <th>2006-01-01</th>\n",
       "      <td>ABOHAR(PB)</td>\n",
       "      <td>January</td>\n",
       "      <td>2006</td>\n",
       "      <td>900</td>\n",
       "      <td>487</td>\n",
       "      <td>638</td>\n",
       "      <td>563</td>\n",
       "      <td>PB</td>\n",
       "      <td>ABOHAR</td>\n",
       "      <td>2006-01-01</td>\n",
       "      <td>3653 days</td>\n",
       "    </tr>\n",
       "    <tr>\n",
       "      <th>2010-01-01</th>\n",
       "      <td>ABOHAR(PB)</td>\n",
       "      <td>January</td>\n",
       "      <td>2010</td>\n",
       "      <td>790</td>\n",
       "      <td>1283</td>\n",
       "      <td>1592</td>\n",
       "      <td>1460</td>\n",
       "      <td>PB</td>\n",
       "      <td>ABOHAR</td>\n",
       "      <td>2010-01-01</td>\n",
       "      <td>5114 days</td>\n",
       "    </tr>\n",
       "    <tr>\n",
       "      <th>2011-01-01</th>\n",
       "      <td>ABOHAR(PB)</td>\n",
       "      <td>January</td>\n",
       "      <td>2011</td>\n",
       "      <td>245</td>\n",
       "      <td>3067</td>\n",
       "      <td>3750</td>\n",
       "      <td>3433</td>\n",
       "      <td>PB</td>\n",
       "      <td>ABOHAR</td>\n",
       "      <td>2011-01-01</td>\n",
       "      <td>5479 days</td>\n",
       "    </tr>\n",
       "    <tr>\n",
       "      <th>2012-01-01</th>\n",
       "      <td>ABOHAR(PB)</td>\n",
       "      <td>January</td>\n",
       "      <td>2012</td>\n",
       "      <td>1035</td>\n",
       "      <td>523</td>\n",
       "      <td>686</td>\n",
       "      <td>605</td>\n",
       "      <td>PB</td>\n",
       "      <td>ABOHAR</td>\n",
       "      <td>2012-01-01</td>\n",
       "      <td>5844 days</td>\n",
       "    </tr>\n",
       "  </tbody>\n",
       "</table>\n",
       "</div>"
      ],
      "text/plain": [
       "                market    month  year  quantity  priceMin  priceMax  priceMod  \\\n",
       "date                                                                            \n",
       "2005-01-01  ABOHAR(PB)  January  2005      2350       404       493       446   \n",
       "2006-01-01  ABOHAR(PB)  January  2006       900       487       638       563   \n",
       "2010-01-01  ABOHAR(PB)  January  2010       790      1283      1592      1460   \n",
       "2011-01-01  ABOHAR(PB)  January  2011       245      3067      3750      3433   \n",
       "2012-01-01  ABOHAR(PB)  January  2012      1035       523       686       605   \n",
       "\n",
       "           state    city       date timeIndex  \n",
       "date                                           \n",
       "2005-01-01    PB  ABOHAR 2005-01-01 3288 days  \n",
       "2006-01-01    PB  ABOHAR 2006-01-01 3653 days  \n",
       "2010-01-01    PB  ABOHAR 2010-01-01 5114 days  \n",
       "2011-01-01    PB  ABOHAR 2011-01-01 5479 days  \n",
       "2012-01-01    PB  ABOHAR 2012-01-01 5844 days  "
      ]
     },
     "execution_count": 78,
     "metadata": {},
     "output_type": "execute_result"
    }
   ],
   "source": [
    "df = df.set_index(df[\"date\"])\n",
    "df.head()"
   ]
  },
  {
   "cell_type": "markdown",
   "metadata": {},
   "source": [
    "#### 3.5 Sorting the dateframe based on the date (asc order)"
   ]
  },
  {
   "cell_type": "code",
   "execution_count": 79,
   "metadata": {},
   "outputs": [
    {
     "data": {
      "text/html": [
       "<div>\n",
       "<style scoped>\n",
       "    .dataframe tbody tr th:only-of-type {\n",
       "        vertical-align: middle;\n",
       "    }\n",
       "\n",
       "    .dataframe tbody tr th {\n",
       "        vertical-align: top;\n",
       "    }\n",
       "\n",
       "    .dataframe thead th {\n",
       "        text-align: right;\n",
       "    }\n",
       "</style>\n",
       "<table border=\"1\" class=\"dataframe\">\n",
       "  <thead>\n",
       "    <tr style=\"text-align: right;\">\n",
       "      <th></th>\n",
       "      <th>market</th>\n",
       "      <th>month</th>\n",
       "      <th>year</th>\n",
       "      <th>quantity</th>\n",
       "      <th>priceMin</th>\n",
       "      <th>priceMax</th>\n",
       "      <th>priceMod</th>\n",
       "      <th>state</th>\n",
       "      <th>city</th>\n",
       "      <th>date</th>\n",
       "      <th>timeIndex</th>\n",
       "    </tr>\n",
       "    <tr>\n",
       "      <th>date</th>\n",
       "      <th></th>\n",
       "      <th></th>\n",
       "      <th></th>\n",
       "      <th></th>\n",
       "      <th></th>\n",
       "      <th></th>\n",
       "      <th></th>\n",
       "      <th></th>\n",
       "      <th></th>\n",
       "      <th></th>\n",
       "      <th></th>\n",
       "    </tr>\n",
       "  </thead>\n",
       "  <tbody>\n",
       "    <tr>\n",
       "      <th>1996-01-01</th>\n",
       "      <td>LASALGAON(MS)</td>\n",
       "      <td>January</td>\n",
       "      <td>1996</td>\n",
       "      <td>225063</td>\n",
       "      <td>160</td>\n",
       "      <td>257</td>\n",
       "      <td>226</td>\n",
       "      <td>MS</td>\n",
       "      <td>LASALGAON</td>\n",
       "      <td>1996-01-01</td>\n",
       "      <td>0 days</td>\n",
       "    </tr>\n",
       "    <tr>\n",
       "      <th>1996-02-01</th>\n",
       "      <td>LASALGAON(MS)</td>\n",
       "      <td>February</td>\n",
       "      <td>1996</td>\n",
       "      <td>196164</td>\n",
       "      <td>133</td>\n",
       "      <td>229</td>\n",
       "      <td>186</td>\n",
       "      <td>MS</td>\n",
       "      <td>LASALGAON</td>\n",
       "      <td>1996-02-01</td>\n",
       "      <td>31 days</td>\n",
       "    </tr>\n",
       "    <tr>\n",
       "      <th>1996-03-01</th>\n",
       "      <td>LASALGAON(MS)</td>\n",
       "      <td>March</td>\n",
       "      <td>1996</td>\n",
       "      <td>178992</td>\n",
       "      <td>155</td>\n",
       "      <td>274</td>\n",
       "      <td>243</td>\n",
       "      <td>MS</td>\n",
       "      <td>LASALGAON</td>\n",
       "      <td>1996-03-01</td>\n",
       "      <td>60 days</td>\n",
       "    </tr>\n",
       "    <tr>\n",
       "      <th>1996-04-01</th>\n",
       "      <td>LASALGAON(MS)</td>\n",
       "      <td>April</td>\n",
       "      <td>1996</td>\n",
       "      <td>192592</td>\n",
       "      <td>136</td>\n",
       "      <td>279</td>\n",
       "      <td>254</td>\n",
       "      <td>MS</td>\n",
       "      <td>LASALGAON</td>\n",
       "      <td>1996-04-01</td>\n",
       "      <td>91 days</td>\n",
       "    </tr>\n",
       "    <tr>\n",
       "      <th>1996-05-01</th>\n",
       "      <td>LASALGAON(MS)</td>\n",
       "      <td>May</td>\n",
       "      <td>1996</td>\n",
       "      <td>237574</td>\n",
       "      <td>154</td>\n",
       "      <td>312</td>\n",
       "      <td>269</td>\n",
       "      <td>MS</td>\n",
       "      <td>LASALGAON</td>\n",
       "      <td>1996-05-01</td>\n",
       "      <td>121 days</td>\n",
       "    </tr>\n",
       "  </tbody>\n",
       "</table>\n",
       "</div>"
      ],
      "text/plain": [
       "                   market     month  year  quantity  priceMin  priceMax  \\\n",
       "date                                                                      \n",
       "1996-01-01  LASALGAON(MS)   January  1996    225063       160       257   \n",
       "1996-02-01  LASALGAON(MS)  February  1996    196164       133       229   \n",
       "1996-03-01  LASALGAON(MS)     March  1996    178992       155       274   \n",
       "1996-04-01  LASALGAON(MS)     April  1996    192592       136       279   \n",
       "1996-05-01  LASALGAON(MS)       May  1996    237574       154       312   \n",
       "\n",
       "            priceMod state       city       date timeIndex  \n",
       "date                                                        \n",
       "1996-01-01       226    MS  LASALGAON 1996-01-01    0 days  \n",
       "1996-02-01       186    MS  LASALGAON 1996-02-01   31 days  \n",
       "1996-03-01       243    MS  LASALGAON 1996-03-01   60 days  \n",
       "1996-04-01       254    MS  LASALGAON 1996-04-01   91 days  \n",
       "1996-05-01       269    MS  LASALGAON 1996-05-01  121 days  "
      ]
     },
     "execution_count": 79,
     "metadata": {},
     "output_type": "execute_result"
    }
   ],
   "source": [
    "df = df.sort_index()\n",
    "df.head()"
   ]
  },
  {
   "cell_type": "markdown",
   "metadata": {},
   "source": [
    "#### 3.6 Filtering the data Based on the city Bangalore and Chennai"
   ]
  },
  {
   "cell_type": "code",
   "execution_count": 80,
   "metadata": {},
   "outputs": [
    {
     "data": {
      "text/html": [
       "<div>\n",
       "<style scoped>\n",
       "    .dataframe tbody tr th:only-of-type {\n",
       "        vertical-align: middle;\n",
       "    }\n",
       "\n",
       "    .dataframe tbody tr th {\n",
       "        vertical-align: top;\n",
       "    }\n",
       "\n",
       "    .dataframe thead th {\n",
       "        text-align: right;\n",
       "    }\n",
       "</style>\n",
       "<table border=\"1\" class=\"dataframe\">\n",
       "  <thead>\n",
       "    <tr style=\"text-align: right;\">\n",
       "      <th></th>\n",
       "      <th>market</th>\n",
       "      <th>month</th>\n",
       "      <th>year</th>\n",
       "      <th>quantity</th>\n",
       "      <th>priceMin</th>\n",
       "      <th>priceMax</th>\n",
       "      <th>priceMod</th>\n",
       "      <th>state</th>\n",
       "      <th>city</th>\n",
       "      <th>date</th>\n",
       "      <th>timeIndex</th>\n",
       "    </tr>\n",
       "    <tr>\n",
       "      <th>date</th>\n",
       "      <th></th>\n",
       "      <th></th>\n",
       "      <th></th>\n",
       "      <th></th>\n",
       "      <th></th>\n",
       "      <th></th>\n",
       "      <th></th>\n",
       "      <th></th>\n",
       "      <th></th>\n",
       "      <th></th>\n",
       "      <th></th>\n",
       "    </tr>\n",
       "  </thead>\n",
       "  <tbody>\n",
       "    <tr>\n",
       "      <th>2004-01-01</th>\n",
       "      <td>BANGALORE</td>\n",
       "      <td>January</td>\n",
       "      <td>2004</td>\n",
       "      <td>227832</td>\n",
       "      <td>916</td>\n",
       "      <td>1066</td>\n",
       "      <td>991</td>\n",
       "      <td>KNT</td>\n",
       "      <td>BANGALORE</td>\n",
       "      <td>2004-01-01</td>\n",
       "      <td>2922 days</td>\n",
       "    </tr>\n",
       "    <tr>\n",
       "      <th>2004-02-01</th>\n",
       "      <td>BANGALORE</td>\n",
       "      <td>February</td>\n",
       "      <td>2004</td>\n",
       "      <td>225133</td>\n",
       "      <td>741</td>\n",
       "      <td>870</td>\n",
       "      <td>793</td>\n",
       "      <td>KNT</td>\n",
       "      <td>BANGALORE</td>\n",
       "      <td>2004-02-01</td>\n",
       "      <td>2953 days</td>\n",
       "    </tr>\n",
       "    <tr>\n",
       "      <th>2004-03-01</th>\n",
       "      <td>BANGALORE</td>\n",
       "      <td>March</td>\n",
       "      <td>2004</td>\n",
       "      <td>221952</td>\n",
       "      <td>527</td>\n",
       "      <td>586</td>\n",
       "      <td>556</td>\n",
       "      <td>KNT</td>\n",
       "      <td>BANGALORE</td>\n",
       "      <td>2004-03-01</td>\n",
       "      <td>2982 days</td>\n",
       "    </tr>\n",
       "    <tr>\n",
       "      <th>2004-04-01</th>\n",
       "      <td>BANGALORE</td>\n",
       "      <td>April</td>\n",
       "      <td>2004</td>\n",
       "      <td>185150</td>\n",
       "      <td>419</td>\n",
       "      <td>518</td>\n",
       "      <td>465</td>\n",
       "      <td>KNT</td>\n",
       "      <td>BANGALORE</td>\n",
       "      <td>2004-04-01</td>\n",
       "      <td>3013 days</td>\n",
       "    </tr>\n",
       "    <tr>\n",
       "      <th>2004-05-01</th>\n",
       "      <td>BANGALORE</td>\n",
       "      <td>May</td>\n",
       "      <td>2004</td>\n",
       "      <td>137390</td>\n",
       "      <td>400</td>\n",
       "      <td>516</td>\n",
       "      <td>455</td>\n",
       "      <td>KNT</td>\n",
       "      <td>BANGALORE</td>\n",
       "      <td>2004-05-01</td>\n",
       "      <td>3043 days</td>\n",
       "    </tr>\n",
       "  </tbody>\n",
       "</table>\n",
       "</div>"
      ],
      "text/plain": [
       "               market     month  year  quantity  priceMin  priceMax  priceMod  \\\n",
       "date                                                                            \n",
       "2004-01-01  BANGALORE   January  2004    227832       916      1066       991   \n",
       "2004-02-01  BANGALORE  February  2004    225133       741       870       793   \n",
       "2004-03-01  BANGALORE     March  2004    221952       527       586       556   \n",
       "2004-04-01  BANGALORE     April  2004    185150       419       518       465   \n",
       "2004-05-01  BANGALORE       May  2004    137390       400       516       455   \n",
       "\n",
       "           state       city       date timeIndex  \n",
       "date                                              \n",
       "2004-01-01   KNT  BANGALORE 2004-01-01 2922 days  \n",
       "2004-02-01   KNT  BANGALORE 2004-02-01 2953 days  \n",
       "2004-03-01   KNT  BANGALORE 2004-03-01 2982 days  \n",
       "2004-04-01   KNT  BANGALORE 2004-04-01 3013 days  \n",
       "2004-05-01   KNT  BANGALORE 2004-05-01 3043 days  "
      ]
     },
     "execution_count": 80,
     "metadata": {},
     "output_type": "execute_result"
    }
   ],
   "source": [
    "#Filtering the dataframe based on the city - Bangalore\n",
    "dfBang = df.loc[df.city ==\"BANGALORE\"].copy()\n",
    "dfBang.head()"
   ]
  },
  {
   "cell_type": "code",
   "execution_count": 81,
   "metadata": {},
   "outputs": [
    {
     "data": {
      "text/html": [
       "<div>\n",
       "<style scoped>\n",
       "    .dataframe tbody tr th:only-of-type {\n",
       "        vertical-align: middle;\n",
       "    }\n",
       "\n",
       "    .dataframe tbody tr th {\n",
       "        vertical-align: top;\n",
       "    }\n",
       "\n",
       "    .dataframe thead th {\n",
       "        text-align: right;\n",
       "    }\n",
       "</style>\n",
       "<table border=\"1\" class=\"dataframe\">\n",
       "  <thead>\n",
       "    <tr style=\"text-align: right;\">\n",
       "      <th></th>\n",
       "      <th>market</th>\n",
       "      <th>month</th>\n",
       "      <th>year</th>\n",
       "      <th>quantity</th>\n",
       "      <th>priceMin</th>\n",
       "      <th>priceMax</th>\n",
       "      <th>priceMod</th>\n",
       "      <th>state</th>\n",
       "      <th>city</th>\n",
       "      <th>date</th>\n",
       "      <th>timeIndex</th>\n",
       "    </tr>\n",
       "    <tr>\n",
       "      <th>date</th>\n",
       "      <th></th>\n",
       "      <th></th>\n",
       "      <th></th>\n",
       "      <th></th>\n",
       "      <th></th>\n",
       "      <th></th>\n",
       "      <th></th>\n",
       "      <th></th>\n",
       "      <th></th>\n",
       "      <th></th>\n",
       "      <th></th>\n",
       "    </tr>\n",
       "  </thead>\n",
       "  <tbody>\n",
       "    <tr>\n",
       "      <th>2004-01-01</th>\n",
       "      <td>CHENNAI</td>\n",
       "      <td>January</td>\n",
       "      <td>2004</td>\n",
       "      <td>103400</td>\n",
       "      <td>798</td>\n",
       "      <td>1019</td>\n",
       "      <td>910</td>\n",
       "      <td>TN</td>\n",
       "      <td>CHENNAI</td>\n",
       "      <td>2004-01-01</td>\n",
       "      <td>2922 days</td>\n",
       "    </tr>\n",
       "    <tr>\n",
       "      <th>2004-02-01</th>\n",
       "      <td>CHENNAI</td>\n",
       "      <td>February</td>\n",
       "      <td>2004</td>\n",
       "      <td>87800</td>\n",
       "      <td>776</td>\n",
       "      <td>969</td>\n",
       "      <td>873</td>\n",
       "      <td>TN</td>\n",
       "      <td>CHENNAI</td>\n",
       "      <td>2004-02-01</td>\n",
       "      <td>2953 days</td>\n",
       "    </tr>\n",
       "    <tr>\n",
       "      <th>2004-03-01</th>\n",
       "      <td>CHENNAI</td>\n",
       "      <td>March</td>\n",
       "      <td>2004</td>\n",
       "      <td>102180</td>\n",
       "      <td>506</td>\n",
       "      <td>656</td>\n",
       "      <td>580</td>\n",
       "      <td>TN</td>\n",
       "      <td>CHENNAI</td>\n",
       "      <td>2004-03-01</td>\n",
       "      <td>2982 days</td>\n",
       "    </tr>\n",
       "    <tr>\n",
       "      <th>2004-04-01</th>\n",
       "      <td>CHENNAI</td>\n",
       "      <td>April</td>\n",
       "      <td>2004</td>\n",
       "      <td>83300</td>\n",
       "      <td>448</td>\n",
       "      <td>599</td>\n",
       "      <td>527</td>\n",
       "      <td>TN</td>\n",
       "      <td>CHENNAI</td>\n",
       "      <td>2004-04-01</td>\n",
       "      <td>3013 days</td>\n",
       "    </tr>\n",
       "    <tr>\n",
       "      <th>2004-05-01</th>\n",
       "      <td>CHENNAI</td>\n",
       "      <td>May</td>\n",
       "      <td>2004</td>\n",
       "      <td>84850</td>\n",
       "      <td>462</td>\n",
       "      <td>596</td>\n",
       "      <td>529</td>\n",
       "      <td>TN</td>\n",
       "      <td>CHENNAI</td>\n",
       "      <td>2004-05-01</td>\n",
       "      <td>3043 days</td>\n",
       "    </tr>\n",
       "  </tbody>\n",
       "</table>\n",
       "</div>"
      ],
      "text/plain": [
       "             market     month  year  quantity  priceMin  priceMax  priceMod  \\\n",
       "date                                                                          \n",
       "2004-01-01  CHENNAI   January  2004    103400       798      1019       910   \n",
       "2004-02-01  CHENNAI  February  2004     87800       776       969       873   \n",
       "2004-03-01  CHENNAI     March  2004    102180       506       656       580   \n",
       "2004-04-01  CHENNAI     April  2004     83300       448       599       527   \n",
       "2004-05-01  CHENNAI       May  2004     84850       462       596       529   \n",
       "\n",
       "           state     city       date timeIndex  \n",
       "date                                            \n",
       "2004-01-01    TN  CHENNAI 2004-01-01 2922 days  \n",
       "2004-02-01    TN  CHENNAI 2004-02-01 2953 days  \n",
       "2004-03-01    TN  CHENNAI 2004-03-01 2982 days  \n",
       "2004-04-01    TN  CHENNAI 2004-04-01 3013 days  \n",
       "2004-05-01    TN  CHENNAI 2004-05-01 3043 days  "
      ]
     },
     "execution_count": 81,
     "metadata": {},
     "output_type": "execute_result"
    }
   ],
   "source": [
    "#Filtering the dataframe based on the city - Chennai\n",
    "dfChn = df.loc[df.city == \"CHENNAI\"].copy()\n",
    "dfChn.head()"
   ]
  },
  {
   "cell_type": "markdown",
   "metadata": {},
   "source": [
    "#### 3.7 Dropping the columns that are not needed for analysis in the Bangalore Dataframe"
   ]
  },
  {
   "cell_type": "code",
   "execution_count": 82,
   "metadata": {},
   "outputs": [
    {
     "data": {
      "text/html": [
       "<div>\n",
       "<style scoped>\n",
       "    .dataframe tbody tr th:only-of-type {\n",
       "        vertical-align: middle;\n",
       "    }\n",
       "\n",
       "    .dataframe tbody tr th {\n",
       "        vertical-align: top;\n",
       "    }\n",
       "\n",
       "    .dataframe thead th {\n",
       "        text-align: right;\n",
       "    }\n",
       "</style>\n",
       "<table border=\"1\" class=\"dataframe\">\n",
       "  <thead>\n",
       "    <tr style=\"text-align: right;\">\n",
       "      <th></th>\n",
       "      <th>quantity</th>\n",
       "      <th>priceMod</th>\n",
       "      <th>timeIndex</th>\n",
       "    </tr>\n",
       "    <tr>\n",
       "      <th>date</th>\n",
       "      <th></th>\n",
       "      <th></th>\n",
       "      <th></th>\n",
       "    </tr>\n",
       "  </thead>\n",
       "  <tbody>\n",
       "    <tr>\n",
       "      <th>2004-01-01</th>\n",
       "      <td>227832</td>\n",
       "      <td>991</td>\n",
       "      <td>2922 days</td>\n",
       "    </tr>\n",
       "    <tr>\n",
       "      <th>2004-02-01</th>\n",
       "      <td>225133</td>\n",
       "      <td>793</td>\n",
       "      <td>2953 days</td>\n",
       "    </tr>\n",
       "    <tr>\n",
       "      <th>2004-03-01</th>\n",
       "      <td>221952</td>\n",
       "      <td>556</td>\n",
       "      <td>2982 days</td>\n",
       "    </tr>\n",
       "    <tr>\n",
       "      <th>2004-04-01</th>\n",
       "      <td>185150</td>\n",
       "      <td>465</td>\n",
       "      <td>3013 days</td>\n",
       "    </tr>\n",
       "    <tr>\n",
       "      <th>2004-05-01</th>\n",
       "      <td>137390</td>\n",
       "      <td>455</td>\n",
       "      <td>3043 days</td>\n",
       "    </tr>\n",
       "  </tbody>\n",
       "</table>\n",
       "</div>"
      ],
      "text/plain": [
       "            quantity  priceMod timeIndex\n",
       "date                                    \n",
       "2004-01-01    227832       991 2922 days\n",
       "2004-02-01    225133       793 2953 days\n",
       "2004-03-01    221952       556 2982 days\n",
       "2004-04-01    185150       465 3013 days\n",
       "2004-05-01    137390       455 3043 days"
      ]
     },
     "execution_count": 82,
     "metadata": {},
     "output_type": "execute_result"
    }
   ],
   "source": [
    "dfBang = dfBang.drop([\"market\",\"month\",\"year\",\"priceMin\",\"priceMax\",\"state\",\"city\",\"date\"], axis = 1)\n",
    "dfBang.head()"
   ]
  },
  {
   "cell_type": "markdown",
   "metadata": {},
   "source": [
    "### 4. Exploratory Data Analysis"
   ]
  },
  {
   "cell_type": "markdown",
   "metadata": {},
   "source": [
    "#### 4.1 Plotting the distribution of price in the Bangalore dataframe"
   ]
  },
  {
   "cell_type": "code",
   "execution_count": 83,
   "metadata": {},
   "outputs": [
    {
     "data": {
      "text/plain": [
       "<matplotlib.axes._subplots.AxesSubplot at 0x2cf2b261048>"
      ]
     },
     "execution_count": 83,
     "metadata": {},
     "output_type": "execute_result"
    },
    {
     "data": {
      "image/png": "[encoded data removed]",
      "text/plain": [
       "<Figure size 432x288 with 1 Axes>"
      ]
     },
     "metadata": {
      "needs_background": "light"
     },
     "output_type": "display_data"
    }
   ],
   "source": [
    "dfBang.priceMod.plot(color = \"green\", grid = True)"
   ]
  },
  {
   "cell_type": "markdown",
   "metadata": {},
   "source": [
    "#### 4.2 Converting the timeIndex column value from days to months using \"timedelta\" function"
   ]
  },
  {
   "cell_type": "code",
   "execution_count": 84,
   "metadata": {},
   "outputs": [
    {
     "data": {
      "text/html": [
       "<div>\n",
       "<style scoped>\n",
       "    .dataframe tbody tr th:only-of-type {\n",
       "        vertical-align: middle;\n",
       "    }\n",
       "\n",
       "    .dataframe tbody tr th {\n",
       "        vertical-align: top;\n",
       "    }\n",
       "\n",
       "    .dataframe thead th {\n",
       "        text-align: right;\n",
       "    }\n",
       "</style>\n",
       "<table border=\"1\" class=\"dataframe\">\n",
       "  <thead>\n",
       "    <tr style=\"text-align: right;\">\n",
       "      <th></th>\n",
       "      <th>quantity</th>\n",
       "      <th>priceMod</th>\n",
       "      <th>timeIndex</th>\n",
       "    </tr>\n",
       "    <tr>\n",
       "      <th>date</th>\n",
       "      <th></th>\n",
       "      <th></th>\n",
       "      <th></th>\n",
       "    </tr>\n",
       "  </thead>\n",
       "  <tbody>\n",
       "    <tr>\n",
       "      <th>2004-01-01</th>\n",
       "      <td>227832</td>\n",
       "      <td>991</td>\n",
       "      <td>96.001971</td>\n",
       "    </tr>\n",
       "    <tr>\n",
       "      <th>2004-02-01</th>\n",
       "      <td>225133</td>\n",
       "      <td>793</td>\n",
       "      <td>97.020473</td>\n",
       "    </tr>\n",
       "    <tr>\n",
       "      <th>2004-03-01</th>\n",
       "      <td>221952</td>\n",
       "      <td>556</td>\n",
       "      <td>97.973264</td>\n",
       "    </tr>\n",
       "    <tr>\n",
       "      <th>2004-04-01</th>\n",
       "      <td>185150</td>\n",
       "      <td>465</td>\n",
       "      <td>98.991766</td>\n",
       "    </tr>\n",
       "    <tr>\n",
       "      <th>2004-05-01</th>\n",
       "      <td>137390</td>\n",
       "      <td>455</td>\n",
       "      <td>99.977412</td>\n",
       "    </tr>\n",
       "  </tbody>\n",
       "</table>\n",
       "</div>"
      ],
      "text/plain": [
       "            quantity  priceMod  timeIndex\n",
       "date                                     \n",
       "2004-01-01    227832       991  96.001971\n",
       "2004-02-01    225133       793  97.020473\n",
       "2004-03-01    221952       556  97.973264\n",
       "2004-04-01    185150       465  98.991766\n",
       "2004-05-01    137390       455  99.977412"
      ]
     },
     "execution_count": 84,
     "metadata": {},
     "output_type": "execute_result"
    }
   ],
   "source": [
    "dfBang[\"timeIndex\"] = dfBang[\"timeIndex\"] / np.timedelta64(1,'M')\n",
    "dfBang.head()"
   ]
  },
  {
   "cell_type": "markdown",
   "metadata": {},
   "source": [
    "#### 4.3 Rounding the timeIndex value to integer from decimal value"
   ]
  },
  {
   "cell_type": "code",
   "execution_count": 85,
   "metadata": {},
   "outputs": [
    {
     "data": {
      "text/html": [
       "<div>\n",
       "<style scoped>\n",
       "    .dataframe tbody tr th:only-of-type {\n",
       "        vertical-align: middle;\n",
       "    }\n",
       "\n",
       "    .dataframe tbody tr th {\n",
       "        vertical-align: top;\n",
       "    }\n",
       "\n",
       "    .dataframe thead th {\n",
       "        text-align: right;\n",
       "    }\n",
       "</style>\n",
       "<table border=\"1\" class=\"dataframe\">\n",
       "  <thead>\n",
       "    <tr style=\"text-align: right;\">\n",
       "      <th></th>\n",
       "      <th>quantity</th>\n",
       "      <th>priceMod</th>\n",
       "      <th>timeIndex</th>\n",
       "    </tr>\n",
       "    <tr>\n",
       "      <th>date</th>\n",
       "      <th></th>\n",
       "      <th></th>\n",
       "      <th></th>\n",
       "    </tr>\n",
       "  </thead>\n",
       "  <tbody>\n",
       "    <tr>\n",
       "      <th>2004-01-01</th>\n",
       "      <td>227832</td>\n",
       "      <td>991</td>\n",
       "      <td>96</td>\n",
       "    </tr>\n",
       "    <tr>\n",
       "      <th>2004-02-01</th>\n",
       "      <td>225133</td>\n",
       "      <td>793</td>\n",
       "      <td>97</td>\n",
       "    </tr>\n",
       "    <tr>\n",
       "      <th>2004-03-01</th>\n",
       "      <td>221952</td>\n",
       "      <td>556</td>\n",
       "      <td>98</td>\n",
       "    </tr>\n",
       "    <tr>\n",
       "      <th>2004-04-01</th>\n",
       "      <td>185150</td>\n",
       "      <td>465</td>\n",
       "      <td>99</td>\n",
       "    </tr>\n",
       "    <tr>\n",
       "      <th>2004-05-01</th>\n",
       "      <td>137390</td>\n",
       "      <td>455</td>\n",
       "      <td>100</td>\n",
       "    </tr>\n",
       "  </tbody>\n",
       "</table>\n",
       "</div>"
      ],
      "text/plain": [
       "            quantity  priceMod  timeIndex\n",
       "date                                     \n",
       "2004-01-01    227832       991         96\n",
       "2004-02-01    225133       793         97\n",
       "2004-03-01    221952       556         98\n",
       "2004-04-01    185150       465         99\n",
       "2004-05-01    137390       455        100"
      ]
     },
     "execution_count": 85,
     "metadata": {},
     "output_type": "execute_result"
    }
   ],
   "source": [
    "dfBang[\"timeIndex\"] = dfBang[\"timeIndex\"].round(0).astype(int)\n",
    "dfBang.head()"
   ]
  },
  {
   "cell_type": "markdown",
   "metadata": {},
   "source": [
    "#### 4.4 Plotting the Histogram to find the distribution of price value in Bangalore dataframe"
   ]
  },
  {
   "cell_type": "code",
   "execution_count": 86,
   "metadata": {},
   "outputs": [
    {
     "data": {
      "text/plain": [
       "<matplotlib.axes._subplots.AxesSubplot at 0x2cf2b2dc710>"
      ]
     },
     "execution_count": 86,
     "metadata": {},
     "output_type": "execute_result"
    },
    {
     "data": {
      "image/png": "[encoded data removed]",
      "text/plain": [
       "<Figure size 432x288 with 1 Axes>"
      ]
     },
     "metadata": {
      "needs_background": "light"
     },
     "output_type": "display_data"
    }
   ],
   "source": [
    "dfBang.priceMod.plot(kind = \"Hist\", bins = 30, grid = True)"
   ]
  },
  {
   "cell_type": "markdown",
   "metadata": {},
   "source": [
    "### 5. Time Series Analysis"
   ]
  },
  {
   "cell_type": "markdown",
   "metadata": {},
   "source": [
    "#### 5.1 Performing the seasonal decomposition\n",
    "\n",
    "Performing seasonal decomposition of the priceMod column. Finding out the trend, seasonality and residual(error) pattern present in the Bangalore dataframe. THe model considered here is \"additive\"."
   ]
  },
  {
   "cell_type": "code",
   "execution_count": 88,
   "metadata": {},
   "outputs": [
    {
     "data": {
      "image/png": "[encoded data removed]",
      "text/plain": [
       "<Figure size 432x288 with 4 Axes>"
      ]
     },
     "metadata": {
      "needs_background": "light"
     },
     "output_type": "display_data"
    }
   ],
   "source": [
    "from statsmodels.tsa.seasonal import seasonal_decompose\n",
    "decomposed_dataset = seasonal_decompose(dfBang.priceMod, model = \"additive\")\n",
    "decomposed_dataset.plot()\n",
    "plt.show()"
   ]
  },
  {
   "cell_type": "markdown",
   "metadata": {},
   "source": [
    "#### 5.2 Creating a function for calculating the Rolling Mean & Standard Deviation\n",
    "\n",
    "We are creating a genaralized function for calculating the rolling mean and standard deviation. \n",
    "\n",
    "The window size is taken as 12 becasue the number of months in the input is 12."
   ]
  },
  {
   "cell_type": "code",
   "execution_count": 94,
   "metadata": {},
   "outputs": [
    {
     "data": {
      "text/plain": [
       "date\n",
       "2004-01-01           NaN\n",
       "2004-02-01           NaN\n",
       "2004-03-01           NaN\n",
       "2004-04-01           NaN\n",
       "2004-05-01           NaN\n",
       "2004-06-01           NaN\n",
       "2004-07-01           NaN\n",
       "2004-08-01           NaN\n",
       "2004-09-01           NaN\n",
       "2004-10-01           NaN\n",
       "2004-11-01           NaN\n",
       "2004-12-01    562.666667\n",
       "2005-01-01    523.583333\n",
       "2005-02-01    497.916667\n",
       "2005-03-01    484.750000\n",
       "2005-04-01    480.750000\n",
       "2005-05-01    477.750000\n",
       "2005-06-01    468.416667\n",
       "2005-07-01    462.583333\n",
       "2005-08-01    487.166667\n",
       "Name: priceMod, dtype: float64"
      ]
     },
     "execution_count": 94,
     "metadata": {},
     "output_type": "execute_result"
    }
   ],
   "source": [
    "dfBang.priceMod.rolling(window = 12).mean().head(20)"
   ]
  },
  {
   "cell_type": "code",
   "execution_count": 99,
   "metadata": {},
   "outputs": [],
   "source": [
    "def rolling_means(timeseries_column_name):\n",
    "    rolling_mean = timeseries_column_name.rolling(window = 12).mean()\n",
    "    rolling_std  = timeseries_column_name.rolling(window = 12).std()\n",
    "    timeseries_column_name.plot(color = 'Red', label = 'Original series')\n",
    "    rolling_mean.plot(color = \"Green\", label = \"Rolling Mean\")\n",
    "    rolling_std.plot(color = \"Blue\", label = \"Rolling Std\")\n",
    "    plt.legend(loc = \"best\")\n",
    "    plt.title(\"Rolling Mean & Standard Deviation\")\n",
    "    plt.show()"
   ]
  },
  {
   "cell_type": "markdown",
   "metadata": {},
   "source": [
    "#### 5.3 Creating a function for calculating the ADF test results"
   ]
  },
  {
   "cell_type": "code",
   "execution_count": 100,
   "metadata": {},
   "outputs": [],
   "source": [
    "def adf_test(timeseries_column_name):\n",
    "    dftest = adfuller(timeseries_column_name, autolag = 'AIC')\n",
    "    print(dftest)"
   ]
  },
  {
   "cell_type": "markdown",
   "metadata": {},
   "source": [
    "#### 5.4 Creating a function to call the above two functions which provides the test stationarity"
   ]
  },
  {
   "cell_type": "code",
   "execution_count": 101,
   "metadata": {},
   "outputs": [],
   "source": [
    "def test_stationarity(timeseries_column_name):\n",
    "    rolling_means(timeseries_column_name)\n",
    "    adf_test(timeseries_column_name)"
   ]
  },
  {
   "cell_type": "markdown",
   "metadata": {},
   "source": [
    "#### 5.5 Calling the test_stationarity function and see the results(Round 1)"
   ]
  },
  {
   "cell_type": "code",
   "execution_count": 102,
   "metadata": {},
   "outputs": [
    {
     "data": {
      "image/png": "[encoded data removed]",
      "text/plain": [
       "<Figure size 432x288 with 1 Axes>"
      ]
     },
     "metadata": {
      "needs_background": "light"
     },
     "output_type": "display_data"
    },
    {
     "name": "stdout",
     "output_type": "stream",
     "text": [
      "(-4.004401077671534, 0.00138764044231547, 2, 143, {'1%': -3.4769274060112707, '5%': -2.8819726324025625, '10%': -2.577665408088415}, 1851.0289972769456)\n"
     ]
    }
   ],
   "source": [
    "test_stationarity(dfBang.priceMod)"
   ]
  },
  {
   "cell_type": "markdown",
   "metadata": {},
   "source": [
    "#### 5.6 Creating a new column priceModLog\n",
    "\n",
    "As the priceMod column value is not normally distributed, we are creating a new column named priceModLog and taking the log of the priceMod column values to make it normally distributed."
   ]
  },
  {
   "cell_type": "code",
   "execution_count": 103,
   "metadata": {},
   "outputs": [
    {
     "data": {
      "text/html": [
       "<div>\n",
       "<style scoped>\n",
       "    .dataframe tbody tr th:only-of-type {\n",
       "        vertical-align: middle;\n",
       "    }\n",
       "\n",
       "    .dataframe tbody tr th {\n",
       "        vertical-align: top;\n",
       "    }\n",
       "\n",
       "    .dataframe thead th {\n",
       "        text-align: right;\n",
       "    }\n",
       "</style>\n",
       "<table border=\"1\" class=\"dataframe\">\n",
       "  <thead>\n",
       "    <tr style=\"text-align: right;\">\n",
       "      <th></th>\n",
       "      <th>quantity</th>\n",
       "      <th>priceMod</th>\n",
       "      <th>timeIndex</th>\n",
       "      <th>priceModLog</th>\n",
       "    </tr>\n",
       "    <tr>\n",
       "      <th>date</th>\n",
       "      <th></th>\n",
       "      <th></th>\n",
       "      <th></th>\n",
       "      <th></th>\n",
       "    </tr>\n",
       "  </thead>\n",
       "  <tbody>\n",
       "    <tr>\n",
       "      <th>2004-01-01</th>\n",
       "      <td>227832</td>\n",
       "      <td>991</td>\n",
       "      <td>96</td>\n",
       "      <td>6.898715</td>\n",
       "    </tr>\n",
       "    <tr>\n",
       "      <th>2004-02-01</th>\n",
       "      <td>225133</td>\n",
       "      <td>793</td>\n",
       "      <td>97</td>\n",
       "      <td>6.675823</td>\n",
       "    </tr>\n",
       "    <tr>\n",
       "      <th>2004-03-01</th>\n",
       "      <td>221952</td>\n",
       "      <td>556</td>\n",
       "      <td>98</td>\n",
       "      <td>6.320768</td>\n",
       "    </tr>\n",
       "    <tr>\n",
       "      <th>2004-04-01</th>\n",
       "      <td>185150</td>\n",
       "      <td>465</td>\n",
       "      <td>99</td>\n",
       "      <td>6.142037</td>\n",
       "    </tr>\n",
       "    <tr>\n",
       "      <th>2004-05-01</th>\n",
       "      <td>137390</td>\n",
       "      <td>455</td>\n",
       "      <td>100</td>\n",
       "      <td>6.120297</td>\n",
       "    </tr>\n",
       "  </tbody>\n",
       "</table>\n",
       "</div>"
      ],
      "text/plain": [
       "            quantity  priceMod  timeIndex  priceModLog\n",
       "date                                                  \n",
       "2004-01-01    227832       991         96     6.898715\n",
       "2004-02-01    225133       793         97     6.675823\n",
       "2004-03-01    221952       556         98     6.320768\n",
       "2004-04-01    185150       465         99     6.142037\n",
       "2004-05-01    137390       455        100     6.120297"
      ]
     },
     "execution_count": 103,
     "metadata": {},
     "output_type": "execute_result"
    }
   ],
   "source": [
    "dfBang[\"priceModLog\"] = np.log(dfBang.priceMod)\n",
    "dfBang.head()"
   ]
  },
  {
   "cell_type": "markdown",
   "metadata": {},
   "source": [
    "#### 5.7 Visualizing the distribution of the priceModLog column using the Histogram"
   ]
  },
  {
   "cell_type": "code",
   "execution_count": 105,
   "metadata": {},
   "outputs": [
    {
     "data": {
      "text/plain": [
       "<matplotlib.axes._subplots.AxesSubplot at 0x2cf2dcc18d0>"
      ]
     },
     "execution_count": 105,
     "metadata": {},
     "output_type": "execute_result"
    },
    {
     "data": {
      "image/png": "[encoded data removed]",
      "text/plain": [
       "<Figure size 432x288 with 1 Axes>"
      ]
     },
     "metadata": {
      "needs_background": "light"
     },
     "output_type": "display_data"
    }
   ],
   "source": [
    "dfBang.priceModLog.plot(kind = \"hist\", bins = 30, grid = True)"
   ]
  },
  {
   "cell_type": "markdown",
   "metadata": {},
   "source": [
    "#### 5.8 Calling the test_stationarity func and see the results (Round 2)\n",
    "\n",
    "Checking the test_stationarity results after taking the log transformation (Round 2)"
   ]
  },
  {
   "cell_type": "code",
   "execution_count": 106,
   "metadata": {
    "scrolled": true
   },
   "outputs": [
    {
     "data": {
      "image/png": "[encoded data removed]",
      "text/plain": [
       "<Figure size 432x288 with 1 Axes>"
      ]
     },
     "metadata": {
      "needs_background": "light"
     },
     "output_type": "display_data"
    },
    {
     "name": "stdout",
     "output_type": "stream",
     "text": [
      "(-3.650644034509109, 0.004863452362946618, 2, 143, {'1%': -3.4769274060112707, '5%': -2.8819726324025625, '10%': -2.577665408088415}, -30.104399768798487)\n"
     ]
    }
   ],
   "source": [
    "test_stationarity(dfBang.priceModLog)"
   ]
  },
  {
   "cell_type": "markdown",
   "metadata": {},
   "source": [
    "#### 5.9 Creating a new column priceModLogShift\n",
    "\n",
    "Creating a new column priceModLogShift and shifting the values to one row below."
   ]
  },
  {
   "cell_type": "code",
   "execution_count": 117,
   "metadata": {},
   "outputs": [
    {
     "data": {
      "text/html": [
       "<div>\n",
       "<style scoped>\n",
       "    .dataframe tbody tr th:only-of-type {\n",
       "        vertical-align: middle;\n",
       "    }\n",
       "\n",
       "    .dataframe tbody tr th {\n",
       "        vertical-align: top;\n",
       "    }\n",
       "\n",
       "    .dataframe thead th {\n",
       "        text-align: right;\n",
       "    }\n",
       "</style>\n",
       "<table border=\"1\" class=\"dataframe\">\n",
       "  <thead>\n",
       "    <tr style=\"text-align: right;\">\n",
       "      <th></th>\n",
       "      <th>quantity</th>\n",
       "      <th>priceMod</th>\n",
       "      <th>timeIndex</th>\n",
       "      <th>priceModLog</th>\n",
       "      <th>priceModLogShift</th>\n",
       "    </tr>\n",
       "    <tr>\n",
       "      <th>date</th>\n",
       "      <th></th>\n",
       "      <th></th>\n",
       "      <th></th>\n",
       "      <th></th>\n",
       "      <th></th>\n",
       "    </tr>\n",
       "  </thead>\n",
       "  <tbody>\n",
       "    <tr>\n",
       "      <th>2004-02-01</th>\n",
       "      <td>225133</td>\n",
       "      <td>793</td>\n",
       "      <td>97</td>\n",
       "      <td>6.675823</td>\n",
       "      <td>6.898715</td>\n",
       "    </tr>\n",
       "    <tr>\n",
       "      <th>2004-03-01</th>\n",
       "      <td>221952</td>\n",
       "      <td>556</td>\n",
       "      <td>98</td>\n",
       "      <td>6.320768</td>\n",
       "      <td>6.675823</td>\n",
       "    </tr>\n",
       "    <tr>\n",
       "      <th>2004-04-01</th>\n",
       "      <td>185150</td>\n",
       "      <td>465</td>\n",
       "      <td>99</td>\n",
       "      <td>6.142037</td>\n",
       "      <td>6.320768</td>\n",
       "    </tr>\n",
       "    <tr>\n",
       "      <th>2004-05-01</th>\n",
       "      <td>137390</td>\n",
       "      <td>455</td>\n",
       "      <td>100</td>\n",
       "      <td>6.120297</td>\n",
       "      <td>6.142037</td>\n",
       "    </tr>\n",
       "    <tr>\n",
       "      <th>2004-06-01</th>\n",
       "      <td>311445</td>\n",
       "      <td>551</td>\n",
       "      <td>101</td>\n",
       "      <td>6.311735</td>\n",
       "      <td>6.120297</td>\n",
       "    </tr>\n",
       "  </tbody>\n",
       "</table>\n",
       "</div>"
      ],
      "text/plain": [
       "            quantity  priceMod  timeIndex  priceModLog  priceModLogShift\n",
       "date                                                                    \n",
       "2004-02-01    225133       793         97     6.675823          6.898715\n",
       "2004-03-01    221952       556         98     6.320768          6.675823\n",
       "2004-04-01    185150       465         99     6.142037          6.320768\n",
       "2004-05-01    137390       455        100     6.120297          6.142037\n",
       "2004-06-01    311445       551        101     6.311735          6.120297"
      ]
     },
     "execution_count": 117,
     "metadata": {},
     "output_type": "execute_result"
    }
   ],
   "source": [
    "dfBang[\"priceModLogShift\"] = dfBang.priceModLog.shift()\n",
    "dfBang = dfBang.iloc[1:] #Removing the first row in the dataframe as it contains null\n",
    "dfBang.head()"
   ]
  },
  {
   "cell_type": "markdown",
   "metadata": {},
   "source": [
    "#### 5.10 Visualizing the distribution of the priceModLogShift column using the Histogram"
   ]
  },
  {
   "cell_type": "code",
   "execution_count": 118,
   "metadata": {},
   "outputs": [
    {
     "data": {
      "text/plain": [
       "<matplotlib.axes._subplots.AxesSubplot at 0x2cf31a0eac8>"
      ]
     },
     "execution_count": 118,
     "metadata": {},
     "output_type": "execute_result"
    },
    {
     "data": {
      "image/png": "[encoded data removed]",
      "text/plain": [
       "<Figure size 432x288 with 1 Axes>"
      ]
     },
     "metadata": {
      "needs_background": "light"
     },
     "output_type": "display_data"
    }
   ],
   "source": [
    "dfBang.priceModLogShift.plot(kind = \"hist\", bins = 30, grid = True)"
   ]
  },
  {
   "cell_type": "markdown",
   "metadata": {},
   "source": [
    "#### 5.11 Calling the test_stationarity func and see the results (Round 3)\n",
    "\n",
    "Checking the test_stationarity results after shifting the column priceModLog transformation (Round 3)"
   ]
  },
  {
   "cell_type": "code",
   "execution_count": 119,
   "metadata": {},
   "outputs": [
    {
     "data": {
      "image/png": "[encoded data removed]",
      "text/plain": [
       "<Figure size 432x288 with 1 Axes>"
      ]
     },
     "metadata": {
      "needs_background": "light"
     },
     "output_type": "display_data"
    },
    {
     "name": "stdout",
     "output_type": "stream",
     "text": [
      "(-3.5009738150170975, 0.007962119622070716, 2, 142, {'1%': -3.477261624048995, '5%': -2.8821181874544233, '10%': -2.5777431104939494}, -30.72542541366701)\n"
     ]
    }
   ],
   "source": [
    "test_stationarity(dfBang.priceModLogShift)"
   ]
  },
  {
   "cell_type": "markdown",
   "metadata": {},
   "source": [
    "#### 5.12 Creating a new column priceModLogDiff\n",
    "\n",
    "Creating a new column priceModLogDiff by subracting the difference between the priceModLog and priceModLogShift columns."
   ]
  },
  {
   "cell_type": "code",
   "execution_count": 120,
   "metadata": {},
   "outputs": [
    {
     "data": {
      "text/html": [
       "<div>\n",
       "<style scoped>\n",
       "    .dataframe tbody tr th:only-of-type {\n",
       "        vertical-align: middle;\n",
       "    }\n",
       "\n",
       "    .dataframe tbody tr th {\n",
       "        vertical-align: top;\n",
       "    }\n",
       "\n",
       "    .dataframe thead th {\n",
       "        text-align: right;\n",
       "    }\n",
       "</style>\n",
       "<table border=\"1\" class=\"dataframe\">\n",
       "  <thead>\n",
       "    <tr style=\"text-align: right;\">\n",
       "      <th></th>\n",
       "      <th>quantity</th>\n",
       "      <th>priceMod</th>\n",
       "      <th>timeIndex</th>\n",
       "      <th>priceModLog</th>\n",
       "      <th>priceModLogShift</th>\n",
       "      <th>priceModLogDiff</th>\n",
       "    </tr>\n",
       "    <tr>\n",
       "      <th>date</th>\n",
       "      <th></th>\n",
       "      <th></th>\n",
       "      <th></th>\n",
       "      <th></th>\n",
       "      <th></th>\n",
       "      <th></th>\n",
       "    </tr>\n",
       "  </thead>\n",
       "  <tbody>\n",
       "    <tr>\n",
       "      <th>2004-02-01</th>\n",
       "      <td>225133</td>\n",
       "      <td>793</td>\n",
       "      <td>97</td>\n",
       "      <td>6.675823</td>\n",
       "      <td>6.898715</td>\n",
       "      <td>-0.222891</td>\n",
       "    </tr>\n",
       "    <tr>\n",
       "      <th>2004-03-01</th>\n",
       "      <td>221952</td>\n",
       "      <td>556</td>\n",
       "      <td>98</td>\n",
       "      <td>6.320768</td>\n",
       "      <td>6.675823</td>\n",
       "      <td>-0.355055</td>\n",
       "    </tr>\n",
       "    <tr>\n",
       "      <th>2004-04-01</th>\n",
       "      <td>185150</td>\n",
       "      <td>465</td>\n",
       "      <td>99</td>\n",
       "      <td>6.142037</td>\n",
       "      <td>6.320768</td>\n",
       "      <td>-0.178731</td>\n",
       "    </tr>\n",
       "    <tr>\n",
       "      <th>2004-05-01</th>\n",
       "      <td>137390</td>\n",
       "      <td>455</td>\n",
       "      <td>100</td>\n",
       "      <td>6.120297</td>\n",
       "      <td>6.142037</td>\n",
       "      <td>-0.021740</td>\n",
       "    </tr>\n",
       "    <tr>\n",
       "      <th>2004-06-01</th>\n",
       "      <td>311445</td>\n",
       "      <td>551</td>\n",
       "      <td>101</td>\n",
       "      <td>6.311735</td>\n",
       "      <td>6.120297</td>\n",
       "      <td>0.191437</td>\n",
       "    </tr>\n",
       "  </tbody>\n",
       "</table>\n",
       "</div>"
      ],
      "text/plain": [
       "            quantity  priceMod  timeIndex  priceModLog  priceModLogShift  \\\n",
       "date                                                                       \n",
       "2004-02-01    225133       793         97     6.675823          6.898715   \n",
       "2004-03-01    221952       556         98     6.320768          6.675823   \n",
       "2004-04-01    185150       465         99     6.142037          6.320768   \n",
       "2004-05-01    137390       455        100     6.120297          6.142037   \n",
       "2004-06-01    311445       551        101     6.311735          6.120297   \n",
       "\n",
       "            priceModLogDiff  \n",
       "date                         \n",
       "2004-02-01        -0.222891  \n",
       "2004-03-01        -0.355055  \n",
       "2004-04-01        -0.178731  \n",
       "2004-05-01        -0.021740  \n",
       "2004-06-01         0.191437  "
      ]
     },
     "execution_count": 120,
     "metadata": {},
     "output_type": "execute_result"
    }
   ],
   "source": [
    "dfBang[\"priceModLogDiff\"] = dfBang.priceModLog - dfBang.priceModLogShift\n",
    "dfBang.head()"
   ]
  },
  {
   "cell_type": "markdown",
   "metadata": {},
   "source": [
    "#### 5.13 Visualizing the distribution of the priceModLogDiff column"
   ]
  },
  {
   "cell_type": "code",
   "execution_count": 122,
   "metadata": {},
   "outputs": [
    {
     "data": {
      "text/plain": [
       "<matplotlib.axes._subplots.AxesSubplot at 0x2cf2de9e2b0>"
      ]
     },
     "execution_count": 122,
     "metadata": {},
     "output_type": "execute_result"
    },
    {
     "data": {
      "image/png": "[encoded data removed]",
      "text/plain": [
       "<Figure size 432x288 with 1 Axes>"
      ]
     },
     "metadata": {
      "needs_background": "light"
     },
     "output_type": "display_data"
    }
   ],
   "source": [
    "dfBang.priceModLogDiff.plot(color = 'Green', grid = True)"
   ]
  },
  {
   "cell_type": "markdown",
   "metadata": {},
   "source": [
    "#### 5.14 Calling the test_stationarity func and see the results (Round 4)\n",
    "\n",
    "Checking the test_stationarity results using the priceModLogDiff column values(Round 4)"
   ]
  },
  {
   "cell_type": "code",
   "execution_count": 124,
   "metadata": {},
   "outputs": [
    {
     "data": {
      "image/png": "[encoded data removed]",
      "text/plain": [
       "<Figure size 432x288 with 1 Axes>"
      ]
     },
     "metadata": {
      "needs_background": "light"
     },
     "output_type": "display_data"
    },
    {
     "name": "stdout",
     "output_type": "stream",
     "text": [
      "(-7.2932457728865385, 1.3993046206446027e-10, 7, 137, {'1%': -3.479007355368944, '5%': -2.8828782366015093, '10%': -2.5781488587564603}, -27.105948037249647)\n"
     ]
    }
   ],
   "source": [
    "test_stationarity(dfBang.priceModLogDiff)"
   ]
  },
  {
   "cell_type": "markdown",
   "metadata": {},
   "source": [
    "### 6. Model Building\n",
    "\n",
    "The next section is the model building for Time series analysis.\n",
    "\n",
    "We consider using the ARIMA model, which is the best for Time series analysis.\n",
    "\n",
    "ARIMA models are used because they can reduce a non-stationary series to a stationary series using a sequence of differencing steps.\n",
    "\n",
    "Autoregressive Integrated Moving Average ARIMA(p, d, q) Models for Time Series Analysis."
   ]
  },
  {
   "cell_type": "markdown",
   "metadata": {},
   "source": [
    "#### 6.1 Building the ARIMA model\n",
    "\n",
    "First we are creating a function called evaluate_arima_model and finding the AIC results.\n",
    "\n",
    "AIC stands for Akaike Information Criterion. That means, AIC value gives the goodness of fit of the model.\n",
    "\n",
    "Lower is the AIC score, better is the goodness of fit and less chance of overfit.\n",
    "\n",
    "But one AIC score alone is not useful. We should have AIC score for good number of iterations and compare it with the other values to find the best AIC value."
   ]
  },
  {
   "cell_type": "code",
   "execution_count": 126,
   "metadata": {},
   "outputs": [],
   "source": [
    "from statsmodels.tsa.arima_model import ARIMA\n",
    "\n",
    "def evaluate_arima_model(timeseries_column_name, arima_order):\n",
    "    model = ARIMA(timeseries_column_name, order = arima_order)\n",
    "    arima_results = model.fit()\n",
    "    aic = arima_results.aic\n",
    "    return aic"
   ]
  },
  {
   "cell_type": "markdown",
   "metadata": {},
   "source": [
    "#### 6.2 Finding the Best AIC score\n",
    "\n",
    "passing number of iterations for the arima model and finding the best AIC score/value.\n",
    "\n",
    "we provide values for p, d, q in order to perform few iterations.\n",
    "\n",
    "p = [0,1,2]\n",
    "\n",
    "d = [0,1]\n",
    "\n",
    "q = [0,1,2]\n",
    "\n",
    "Inorder to perform interations with the combination of values in p, d, q order, we write the code with for loop."
   ]
  },
  {
   "cell_type": "code",
   "execution_count": 139,
   "metadata": {},
   "outputs": [
    {
     "name": "stdout",
     "output_type": "stream",
     "text": [
      "ARIMA ORDER : (0, 0, 0)  AIC SCORE : 9.724\n",
      "ARIMA ORDER : (0, 0, 1)  AIC SCORE : -17.753\n",
      "ARIMA ORDER : (0, 0, 2)  AIC SCORE : -17.495\n",
      "ARIMA ORDER : (0, 1, 0)  AIC SCORE : 34.696\n",
      "ARIMA ORDER : (0, 1, 1)  AIC SCORE : 30.678\n",
      "ARIMA ORDER : (0, 1, 2)  AIC SCORE : -10.350\n",
      "ARIMA ORDER : (1, 0, 0)  AIC SCORE : -14.085\n",
      "ARIMA ORDER : (1, 0, 1)  AIC SCORE : -16.721\n",
      "ARIMA ORDER : (1, 1, 0)  AIC SCORE : 34.026\n",
      "ARIMA ORDER : (2, 0, 0)  AIC SCORE : -19.882\n",
      "ARIMA ORDER : (2, 0, 1)  AIC SCORE : -44.548\n",
      "ARIMA ORDER : (2, 1, 0)  AIC SCORE : 28.047\n",
      "ARIMA ORDER : (2, 1, 1)  AIC SCORE : -12.359\n"
     ]
    }
   ],
   "source": [
    "# The below two line of code is for ignoring the warnings produced by the IDE. \n",
    "#If you remove these two lines the program will execute as usual but with warnings.\n",
    "import warnings\n",
    "warnings.filterwarnings(\"ignore\")\n",
    "\n",
    "p_values = [0,1,2]\n",
    "d_values = [0,1]\n",
    "q_values = [0,1,2]\n",
    "\n",
    "for p in p_values:\n",
    "    for d in d_values:\n",
    "        for q in q_values:\n",
    "            arima_order = (p,d,q)\n",
    "            try:\n",
    "                aic_score = evaluate_arima_model(dfBang.priceModLogDiff, arima_order)\n",
    "                print('ARIMA ORDER : %s  AIC SCORE : %.3f' %(arima_order, aic_score))\n",
    "            except ValueError:\n",
    "                aic_score, arima_order\n",
    "                continue"
   ]
  },
  {
   "cell_type": "markdown",
   "metadata": {},
   "source": [
    "#### 6.3 Running the ARIMA model\n",
    "\n",
    "So, from the above evaluation we can conclude that AIRMA ORDER (2,0,1) gives the best AIC SCORE of -44.548 which is the lowest one and best for goodness of fit.\n",
    "\n",
    "Now, let's run the ARIMA model with this ARIMA ORDER and find the results."
   ]
  },
  {
   "cell_type": "code",
   "execution_count": 141,
   "metadata": {},
   "outputs": [
    {
     "data": {
      "text/plain": [
       "<matplotlib.legend.Legend at 0x2cf32298a20>"
      ]
     },
     "execution_count": 141,
     "metadata": {},
     "output_type": "execute_result"
    },
    {
     "data": {
      "image/png": "[encoded data removed]",
      "text/plain": [
       "<Figure size 432x288 with 1 Axes>"
      ]
     },
     "metadata": {
      "needs_background": "light"
     },
     "output_type": "display_data"
    }
   ],
   "source": [
    "from statsmodels.tsa.arima_model import ARIMA\n",
    "\n",
    "model = ARIMA(dfBang.priceModLogDiff, order = (2,0,1))\n",
    "arima_results = model.fit()\n",
    "\n",
    "dfBang.priceModLogDiff.plot(color = \"Red\", grid = True, label = \"Original Series\")\n",
    "arima_results.fittedvalues.plot(color = 'Green', grid = True, label = \"Fitted Series\")\n",
    "plt.legend(loc = \"best\")"
   ]
  },
  {
   "cell_type": "markdown",
   "metadata": {},
   "source": [
    "Based on the above visualisation we can conclude that we have created the model which can predict the future values of the time series.\n",
    "\n",
    "This conclusion is based on the above visualization, which shows that original and the fitted series by the model is of good fit.\n",
    "\n",
    "#### 6.4 Reverse transformation of the fitted values\n",
    "\n",
    "Now, we need to reverse the transformations that we have done before to predict the actual values of the onion price."
   ]
  },
  {
   "cell_type": "code",
   "execution_count": 154,
   "metadata": {},
   "outputs": [
    {
     "data": {
      "text/plain": [
       "date\n",
       "2004-02-01    0.008824\n",
       "2004-03-01   -0.085040\n",
       "2004-04-01   -0.118119\n",
       "2004-05-01    0.021076\n",
       "2004-06-01    0.109163\n",
       "dtype: float64"
      ]
     },
     "execution_count": 154,
     "metadata": {},
     "output_type": "execute_result"
    }
   ],
   "source": [
    "pred_priceModLogDiff = pd.Series(arima_results.fittedvalues, copy = True)\n",
    "pred_priceModLogDiff.head()"
   ]
  },
  {
   "cell_type": "markdown",
   "metadata": {},
   "source": [
    "#### 6.6 Return back to the log value for the fitted values"
   ]
  },
  {
   "cell_type": "code",
   "execution_count": 159,
   "metadata": {},
   "outputs": [
    {
     "data": {
      "text/plain": [
       "date\n",
       "2004-02-01    6.684647\n",
       "2004-03-01    6.590783\n",
       "2004-04-01    6.557705\n",
       "2004-05-01    6.696899\n",
       "2004-06-01    6.784986\n",
       "dtype: float64"
      ]
     },
     "execution_count": 159,
     "metadata": {},
     "output_type": "execute_result"
    }
   ],
   "source": [
    "pred_arima_log = pd.Series(dfBang.priceModLog.iloc[0], index = dfBang.index)\n",
    "pred_arima_log = pred_arima_log.add(pred_priceModLogDiff, fill_value = 0)\n",
    "pred_arima_log.head()"
   ]
  },
  {
   "cell_type": "markdown",
   "metadata": {},
   "source": [
    "#### 6.7 Return back to the original value of prediction\n",
    "\n",
    "Calculating the original predicted value by taking the exponential of the piror value."
   ]
  },
  {
   "cell_type": "code",
   "execution_count": 160,
   "metadata": {},
   "outputs": [
    {
     "data": {
      "text/plain": [
       "date\n",
       "2004-02-01    800.028105\n",
       "2004-03-01    728.350884\n",
       "2004-04-01    704.652459\n",
       "2004-05-01    809.890739\n",
       "2004-06-01    884.467990\n",
       "dtype: float64"
      ]
     },
     "execution_count": 160,
     "metadata": {},
     "output_type": "execute_result"
    }
   ],
   "source": [
    "pred_priceMod = np.exp(pred_arima_log)\n",
    "pred_priceMod.head()"
   ]
  },
  {
   "cell_type": "markdown",
   "metadata": {},
   "source": [
    "#### 6.8 Visualizing the distribution of the Original values vs Predicted values"
   ]
  },
  {
   "cell_type": "code",
   "execution_count": 161,
   "metadata": {},
   "outputs": [
    {
     "data": {
      "text/plain": [
       "<matplotlib.legend.Legend at 0x2cf321bb588>"
      ]
     },
     "execution_count": 161,
     "metadata": {},
     "output_type": "execute_result"
    },
    {
     "data": {
      "image/png": "[encoded data removed]",
      "text/plain": [
       "<Figure size 432x288 with 1 Axes>"
      ]
     },
     "metadata": {
      "needs_background": "light"
     },
     "output_type": "display_data"
    }
   ],
   "source": [
    "dfBang.priceMod.plot(color = 'Red', grid = True, label = 'Actual value')\n",
    "pred_priceMod.plot(color = 'Green', grid = True, label = \"Predicted value\")\n",
    "plt.legend(loc = \"best\")"
   ]
  },
  {
   "cell_type": "markdown",
   "metadata": {},
   "source": [
    "So, we have built a Time series model which can predict the future price of the onion when given the inputs in depicited time range."
   ]
  }
 ],
 "metadata": {
  "kernelspec": {
   "display_name": "Python 3",
   "language": "python",
   "name": "python3"
  },
  "language_info": {
   "codemirror_mode": {
    "name": "ipython",
    "version": 3
   },
   "file_extension": ".py",
   "mimetype": "text/x-python",
   "name": "python",
   "nbconvert_exporter": "python",
   "pygments_lexer": "ipython3",
   "version": "3.7.3"
  }
 },
 "nbformat": 4,
 "nbformat_minor": 2
}
