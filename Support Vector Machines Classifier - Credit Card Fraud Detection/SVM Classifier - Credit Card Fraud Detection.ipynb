{
 "cells": [
  {
   "cell_type": "markdown",
   "metadata": {},
   "source": [
    "## Support Vector Machines(SVM) Classifier - Credit Card Fraud Detection\n",
    "\n",
    "Credit card fraud has been a biggest challenge to the banks in this digital world. Banks are spending quite a lot of amount in detecting whether the transactions are fraudulent.\n",
    "\n",
    "Our aim is to build a classifier model which can detect whether the transaction is fraudulent or non-fraudulent. \n",
    "\n",
    "We have taken the balanced dataset provided by DataHub(https://datahub.io/machine-learning/creditcard) which is normalized and encrypted for maintaining the secrecy of paramters for fraud detection."
   ]
  },
  {
   "cell_type": "markdown",
   "metadata": {},
   "source": [
    "### 1. Importing the Libraries"
   ]
  },
  {
   "cell_type": "code",
   "execution_count": 33,
   "metadata": {},
   "outputs": [],
   "source": [
    "import numpy as np\n",
    "import pandas as pd\n",
    "import matplotlib.pyplot as plt\n",
    "import seaborn as sns\n",
    "%matplotlib inline"
   ]
  },
  {
   "cell_type": "markdown",
   "metadata": {},
   "source": [
    "### 2. Loading the dataset"
   ]
  },
  {
   "cell_type": "code",
   "execution_count": 2,
   "metadata": {},
   "outputs": [
    {
     "data": {
      "text/html": [
       "<div>\n",
       "<style scoped>\n",
       "    .dataframe tbody tr th:only-of-type {\n",
       "        vertical-align: middle;\n",
       "    }\n",
       "\n",
       "    .dataframe tbody tr th {\n",
       "        vertical-align: top;\n",
       "    }\n",
       "\n",
       "    .dataframe thead th {\n",
       "        text-align: right;\n",
       "    }\n",
       "</style>\n",
       "<table border=\"1\" class=\"dataframe\">\n",
       "  <thead>\n",
       "    <tr style=\"text-align: right;\">\n",
       "      <th></th>\n",
       "      <th>Time</th>\n",
       "      <th>V1</th>\n",
       "      <th>V2</th>\n",
       "      <th>V3</th>\n",
       "      <th>V4</th>\n",
       "      <th>V5</th>\n",
       "      <th>V6</th>\n",
       "      <th>V7</th>\n",
       "      <th>V8</th>\n",
       "      <th>V9</th>\n",
       "      <th>...</th>\n",
       "      <th>V21</th>\n",
       "      <th>V22</th>\n",
       "      <th>V23</th>\n",
       "      <th>V24</th>\n",
       "      <th>V25</th>\n",
       "      <th>V26</th>\n",
       "      <th>V27</th>\n",
       "      <th>V28</th>\n",
       "      <th>Amount</th>\n",
       "      <th>Class</th>\n",
       "    </tr>\n",
       "  </thead>\n",
       "  <tbody>\n",
       "    <tr>\n",
       "      <td>0</td>\n",
       "      <td>0</td>\n",
       "      <td>-1.359807</td>\n",
       "      <td>-0.072781</td>\n",
       "      <td>2.536347</td>\n",
       "      <td>1.378155</td>\n",
       "      <td>-0.338321</td>\n",
       "      <td>0.462388</td>\n",
       "      <td>0.239599</td>\n",
       "      <td>0.098698</td>\n",
       "      <td>0.363787</td>\n",
       "      <td>...</td>\n",
       "      <td>-0.018307</td>\n",
       "      <td>0.277838</td>\n",
       "      <td>-0.110474</td>\n",
       "      <td>0.066928</td>\n",
       "      <td>0.128539</td>\n",
       "      <td>-0.189115</td>\n",
       "      <td>0.133558</td>\n",
       "      <td>-0.021053</td>\n",
       "      <td>149.62</td>\n",
       "      <td>0</td>\n",
       "    </tr>\n",
       "    <tr>\n",
       "      <td>1</td>\n",
       "      <td>0</td>\n",
       "      <td>1.191857</td>\n",
       "      <td>0.266151</td>\n",
       "      <td>0.166480</td>\n",
       "      <td>0.448154</td>\n",
       "      <td>0.060018</td>\n",
       "      <td>-0.082361</td>\n",
       "      <td>-0.078803</td>\n",
       "      <td>0.085102</td>\n",
       "      <td>-0.255425</td>\n",
       "      <td>...</td>\n",
       "      <td>-0.225775</td>\n",
       "      <td>-0.638672</td>\n",
       "      <td>0.101288</td>\n",
       "      <td>-0.339846</td>\n",
       "      <td>0.167170</td>\n",
       "      <td>0.125895</td>\n",
       "      <td>-0.008983</td>\n",
       "      <td>0.014724</td>\n",
       "      <td>2.69</td>\n",
       "      <td>0</td>\n",
       "    </tr>\n",
       "    <tr>\n",
       "      <td>2</td>\n",
       "      <td>1</td>\n",
       "      <td>-1.358354</td>\n",
       "      <td>-1.340163</td>\n",
       "      <td>1.773209</td>\n",
       "      <td>0.379780</td>\n",
       "      <td>-0.503198</td>\n",
       "      <td>1.800499</td>\n",
       "      <td>0.791461</td>\n",
       "      <td>0.247676</td>\n",
       "      <td>-1.514654</td>\n",
       "      <td>...</td>\n",
       "      <td>0.247998</td>\n",
       "      <td>0.771679</td>\n",
       "      <td>0.909412</td>\n",
       "      <td>-0.689281</td>\n",
       "      <td>-0.327642</td>\n",
       "      <td>-0.139097</td>\n",
       "      <td>-0.055353</td>\n",
       "      <td>-0.059752</td>\n",
       "      <td>378.66</td>\n",
       "      <td>0</td>\n",
       "    </tr>\n",
       "    <tr>\n",
       "      <td>3</td>\n",
       "      <td>1</td>\n",
       "      <td>-0.966272</td>\n",
       "      <td>-0.185226</td>\n",
       "      <td>1.792993</td>\n",
       "      <td>-0.863291</td>\n",
       "      <td>-0.010309</td>\n",
       "      <td>1.247203</td>\n",
       "      <td>0.237609</td>\n",
       "      <td>0.377436</td>\n",
       "      <td>-1.387024</td>\n",
       "      <td>...</td>\n",
       "      <td>-0.108300</td>\n",
       "      <td>0.005274</td>\n",
       "      <td>-0.190321</td>\n",
       "      <td>-1.175575</td>\n",
       "      <td>0.647376</td>\n",
       "      <td>-0.221929</td>\n",
       "      <td>0.062723</td>\n",
       "      <td>0.061458</td>\n",
       "      <td>123.50</td>\n",
       "      <td>0</td>\n",
       "    </tr>\n",
       "    <tr>\n",
       "      <td>4</td>\n",
       "      <td>2</td>\n",
       "      <td>-1.158233</td>\n",
       "      <td>0.877737</td>\n",
       "      <td>1.548718</td>\n",
       "      <td>0.403034</td>\n",
       "      <td>-0.407193</td>\n",
       "      <td>0.095921</td>\n",
       "      <td>0.592941</td>\n",
       "      <td>-0.270533</td>\n",
       "      <td>0.817739</td>\n",
       "      <td>...</td>\n",
       "      <td>-0.009431</td>\n",
       "      <td>0.798278</td>\n",
       "      <td>-0.137458</td>\n",
       "      <td>0.141267</td>\n",
       "      <td>-0.206010</td>\n",
       "      <td>0.502292</td>\n",
       "      <td>0.219422</td>\n",
       "      <td>0.215153</td>\n",
       "      <td>69.99</td>\n",
       "      <td>0</td>\n",
       "    </tr>\n",
       "  </tbody>\n",
       "</table>\n",
       "<p>5 rows × 31 columns</p>\n",
       "</div>"
      ],
      "text/plain": [
       "   Time        V1        V2        V3        V4        V5        V6        V7  \\\n",
       "0     0 -1.359807 -0.072781  2.536347  1.378155 -0.338321  0.462388  0.239599   \n",
       "1     0  1.191857  0.266151  0.166480  0.448154  0.060018 -0.082361 -0.078803   \n",
       "2     1 -1.358354 -1.340163  1.773209  0.379780 -0.503198  1.800499  0.791461   \n",
       "3     1 -0.966272 -0.185226  1.792993 -0.863291 -0.010309  1.247203  0.237609   \n",
       "4     2 -1.158233  0.877737  1.548718  0.403034 -0.407193  0.095921  0.592941   \n",
       "\n",
       "         V8        V9  ...       V21       V22       V23       V24       V25  \\\n",
       "0  0.098698  0.363787  ... -0.018307  0.277838 -0.110474  0.066928  0.128539   \n",
       "1  0.085102 -0.255425  ... -0.225775 -0.638672  0.101288 -0.339846  0.167170   \n",
       "2  0.247676 -1.514654  ...  0.247998  0.771679  0.909412 -0.689281 -0.327642   \n",
       "3  0.377436 -1.387024  ... -0.108300  0.005274 -0.190321 -1.175575  0.647376   \n",
       "4 -0.270533  0.817739  ... -0.009431  0.798278 -0.137458  0.141267 -0.206010   \n",
       "\n",
       "        V26       V27       V28  Amount  Class  \n",
       "0 -0.189115  0.133558 -0.021053  149.62      0  \n",
       "1  0.125895 -0.008983  0.014724    2.69      0  \n",
       "2 -0.139097 -0.055353 -0.059752  378.66      0  \n",
       "3 -0.221929  0.062723  0.061458  123.50      0  \n",
       "4  0.502292  0.219422  0.215153   69.99      0  \n",
       "\n",
       "[5 rows x 31 columns]"
      ]
     },
     "execution_count": 2,
     "metadata": {},
     "output_type": "execute_result"
    }
   ],
   "source": [
    "df = pd.read_csv(\"https://raw.githubusercontent.com/insaid2018/Term-2/master/CaseStudy/credit_fraud.csv\")\n",
    "df.head()"
   ]
  },
  {
   "cell_type": "markdown",
   "metadata": {},
   "source": [
    "### 3. Exploratory Data Analysis"
   ]
  },
  {
   "cell_type": "markdown",
   "metadata": {},
   "source": [
    "#### 3.1 Checking the shape of the dataset"
   ]
  },
  {
   "cell_type": "code",
   "execution_count": 4,
   "metadata": {},
   "outputs": [
    {
     "data": {
      "text/plain": [
       "(10000, 31)"
      ]
     },
     "execution_count": 4,
     "metadata": {},
     "output_type": "execute_result"
    }
   ],
   "source": [
    "df.shape"
   ]
  },
  {
   "cell_type": "markdown",
   "metadata": {},
   "source": [
    "From the above result, we can conclude that our dataset has 10k observations and 31 columns."
   ]
  },
  {
   "cell_type": "markdown",
   "metadata": {},
   "source": [
    "#### 3.2 Checking the columns in the dataset"
   ]
  },
  {
   "cell_type": "code",
   "execution_count": 6,
   "metadata": {},
   "outputs": [
    {
     "data": {
      "text/plain": [
       "Index(['Time', 'V1', 'V2', 'V3', 'V4', 'V5', 'V6', 'V7', 'V8', 'V9', 'V10',\n",
       "       'V11', 'V12', 'V13', 'V14', 'V15', 'V16', 'V17', 'V18', 'V19', 'V20',\n",
       "       'V21', 'V22', 'V23', 'V24', 'V25', 'V26', 'V27', 'V28', 'Amount',\n",
       "       'Class'],\n",
       "      dtype='object')"
      ]
     },
     "execution_count": 6,
     "metadata": {},
     "output_type": "execute_result"
    }
   ],
   "source": [
    "df.columns"
   ]
  },
  {
   "cell_type": "markdown",
   "metadata": {},
   "source": [
    "So, 'Class' is the target variable in the dataset and all the other features are independent variables."
   ]
  },
  {
   "cell_type": "markdown",
   "metadata": {},
   "source": [
    "#### 3.3 Concise summary of the dataset"
   ]
  },
  {
   "cell_type": "code",
   "execution_count": 9,
   "metadata": {},
   "outputs": [
    {
     "name": "stdout",
     "output_type": "stream",
     "text": [
      "<class 'pandas.core.frame.DataFrame'>\n",
      "RangeIndex: 10000 entries, 0 to 9999\n",
      "Data columns (total 31 columns):\n",
      "Time      10000 non-null int64\n",
      "V1        10000 non-null float64\n",
      "V2        10000 non-null float64\n",
      "V3        10000 non-null float64\n",
      "V4        10000 non-null float64\n",
      "V5        10000 non-null float64\n",
      "V6        10000 non-null float64\n",
      "V7        10000 non-null float64\n",
      "V8        10000 non-null float64\n",
      "V9        10000 non-null float64\n",
      "V10       10000 non-null float64\n",
      "V11       10000 non-null float64\n",
      "V12       10000 non-null float64\n",
      "V13       10000 non-null float64\n",
      "V14       10000 non-null float64\n",
      "V15       10000 non-null float64\n",
      "V16       10000 non-null float64\n",
      "V17       10000 non-null float64\n",
      "V18       10000 non-null float64\n",
      "V19       10000 non-null float64\n",
      "V20       10000 non-null float64\n",
      "V21       10000 non-null float64\n",
      "V22       10000 non-null float64\n",
      "V23       10000 non-null float64\n",
      "V24       10000 non-null float64\n",
      "V25       10000 non-null float64\n",
      "V26       10000 non-null float64\n",
      "V27       10000 non-null float64\n",
      "V28       10000 non-null float64\n",
      "Amount    10000 non-null float64\n",
      "Class     10000 non-null int64\n",
      "dtypes: float64(29), int64(2)\n",
      "memory usage: 2.4 MB\n"
     ]
    }
   ],
   "source": [
    "df.info()"
   ]
  },
  {
   "cell_type": "markdown",
   "metadata": {},
   "source": [
    "From the results, we can conclude that our dataset have only numerical columns and does not have any object values."
   ]
  },
  {
   "cell_type": "markdown",
   "metadata": {},
   "source": [
    "#### 3.4 Checking for null values in the dataset"
   ]
  },
  {
   "cell_type": "code",
   "execution_count": 13,
   "metadata": {},
   "outputs": [
    {
     "data": {
      "text/plain": [
       "Time      False\n",
       "V1        False\n",
       "V2        False\n",
       "V3        False\n",
       "V4        False\n",
       "V5        False\n",
       "V6        False\n",
       "V7        False\n",
       "V8        False\n",
       "V9        False\n",
       "V10       False\n",
       "V11       False\n",
       "V12       False\n",
       "V13       False\n",
       "V14       False\n",
       "V15       False\n",
       "V16       False\n",
       "V17       False\n",
       "V18       False\n",
       "V19       False\n",
       "V20       False\n",
       "V21       False\n",
       "V22       False\n",
       "V23       False\n",
       "V24       False\n",
       "V25       False\n",
       "V26       False\n",
       "V27       False\n",
       "V28       False\n",
       "Amount    False\n",
       "Class     False\n",
       "dtype: bool"
      ]
     },
     "execution_count": 13,
     "metadata": {},
     "output_type": "execute_result"
    }
   ],
   "source": [
    "df.isnull().any()"
   ]
  },
  {
   "cell_type": "markdown",
   "metadata": {},
   "source": [
    "From the above results, we can conclude that our dataset does not have any null values."
   ]
  },
  {
   "cell_type": "markdown",
   "metadata": {},
   "source": [
    "#### 3.5 Statistical summary of the dataset"
   ]
  },
  {
   "cell_type": "code",
   "execution_count": 14,
   "metadata": {},
   "outputs": [
    {
     "data": {
      "text/html": [
       "<div>\n",
       "<style scoped>\n",
       "    .dataframe tbody tr th:only-of-type {\n",
       "        vertical-align: middle;\n",
       "    }\n",
       "\n",
       "    .dataframe tbody tr th {\n",
       "        vertical-align: top;\n",
       "    }\n",
       "\n",
       "    .dataframe thead th {\n",
       "        text-align: right;\n",
       "    }\n",
       "</style>\n",
       "<table border=\"1\" class=\"dataframe\">\n",
       "  <thead>\n",
       "    <tr style=\"text-align: right;\">\n",
       "      <th></th>\n",
       "      <th>Time</th>\n",
       "      <th>V1</th>\n",
       "      <th>V2</th>\n",
       "      <th>V3</th>\n",
       "      <th>V4</th>\n",
       "      <th>V5</th>\n",
       "      <th>V6</th>\n",
       "      <th>V7</th>\n",
       "      <th>V8</th>\n",
       "      <th>V9</th>\n",
       "      <th>...</th>\n",
       "      <th>V21</th>\n",
       "      <th>V22</th>\n",
       "      <th>V23</th>\n",
       "      <th>V24</th>\n",
       "      <th>V25</th>\n",
       "      <th>V26</th>\n",
       "      <th>V27</th>\n",
       "      <th>V28</th>\n",
       "      <th>Amount</th>\n",
       "      <th>Class</th>\n",
       "    </tr>\n",
       "  </thead>\n",
       "  <tbody>\n",
       "    <tr>\n",
       "      <td>count</td>\n",
       "      <td>10000.000000</td>\n",
       "      <td>10000.000000</td>\n",
       "      <td>10000.000000</td>\n",
       "      <td>10000.000000</td>\n",
       "      <td>10000.000000</td>\n",
       "      <td>10000.000000</td>\n",
       "      <td>10000.000000</td>\n",
       "      <td>10000.000000</td>\n",
       "      <td>10000.000000</td>\n",
       "      <td>10000.000000</td>\n",
       "      <td>...</td>\n",
       "      <td>10000.000000</td>\n",
       "      <td>10000.000000</td>\n",
       "      <td>10000.000000</td>\n",
       "      <td>10000.000000</td>\n",
       "      <td>10000.000000</td>\n",
       "      <td>10000.000000</td>\n",
       "      <td>10000.000000</td>\n",
       "      <td>10000.000000</td>\n",
       "      <td>10000.000000</td>\n",
       "      <td>10000.00000</td>\n",
       "    </tr>\n",
       "    <tr>\n",
       "      <td>mean</td>\n",
       "      <td>5966.033400</td>\n",
       "      <td>-0.241862</td>\n",
       "      <td>0.281949</td>\n",
       "      <td>0.906270</td>\n",
       "      <td>0.264148</td>\n",
       "      <td>-0.046398</td>\n",
       "      <td>0.133108</td>\n",
       "      <td>-0.071689</td>\n",
       "      <td>-0.064778</td>\n",
       "      <td>0.802224</td>\n",
       "      <td>...</td>\n",
       "      <td>-0.051990</td>\n",
       "      <td>-0.152671</td>\n",
       "      <td>-0.033268</td>\n",
       "      <td>0.021335</td>\n",
       "      <td>0.087146</td>\n",
       "      <td>0.108140</td>\n",
       "      <td>0.005518</td>\n",
       "      <td>0.002915</td>\n",
       "      <td>63.030188</td>\n",
       "      <td>0.00380</td>\n",
       "    </tr>\n",
       "    <tr>\n",
       "      <td>std</td>\n",
       "      <td>4473.403739</td>\n",
       "      <td>1.521679</td>\n",
       "      <td>1.308139</td>\n",
       "      <td>1.159154</td>\n",
       "      <td>1.441235</td>\n",
       "      <td>1.182935</td>\n",
       "      <td>1.307311</td>\n",
       "      <td>1.077430</td>\n",
       "      <td>1.259064</td>\n",
       "      <td>1.155198</td>\n",
       "      <td>...</td>\n",
       "      <td>0.913811</td>\n",
       "      <td>0.631083</td>\n",
       "      <td>0.487814</td>\n",
       "      <td>0.594430</td>\n",
       "      <td>0.428171</td>\n",
       "      <td>0.562793</td>\n",
       "      <td>0.410868</td>\n",
       "      <td>0.266247</td>\n",
       "      <td>184.486158</td>\n",
       "      <td>0.06153</td>\n",
       "    </tr>\n",
       "    <tr>\n",
       "      <td>min</td>\n",
       "      <td>0.000000</td>\n",
       "      <td>-27.670569</td>\n",
       "      <td>-34.607649</td>\n",
       "      <td>-15.496222</td>\n",
       "      <td>-4.657545</td>\n",
       "      <td>-32.092129</td>\n",
       "      <td>-23.496714</td>\n",
       "      <td>-26.548144</td>\n",
       "      <td>-23.632502</td>\n",
       "      <td>-6.329801</td>\n",
       "      <td>...</td>\n",
       "      <td>-11.468435</td>\n",
       "      <td>-8.527145</td>\n",
       "      <td>-15.144340</td>\n",
       "      <td>-2.512377</td>\n",
       "      <td>-2.577363</td>\n",
       "      <td>-1.338556</td>\n",
       "      <td>-7.976100</td>\n",
       "      <td>-3.509250</td>\n",
       "      <td>0.000000</td>\n",
       "      <td>0.00000</td>\n",
       "    </tr>\n",
       "    <tr>\n",
       "      <td>25%</td>\n",
       "      <td>2072.750000</td>\n",
       "      <td>-1.013283</td>\n",
       "      <td>-0.208342</td>\n",
       "      <td>0.412799</td>\n",
       "      <td>-0.614424</td>\n",
       "      <td>-0.643390</td>\n",
       "      <td>-0.629934</td>\n",
       "      <td>-0.542336</td>\n",
       "      <td>-0.190747</td>\n",
       "      <td>0.070868</td>\n",
       "      <td>...</td>\n",
       "      <td>-0.268120</td>\n",
       "      <td>-0.549638</td>\n",
       "      <td>-0.174120</td>\n",
       "      <td>-0.327817</td>\n",
       "      <td>-0.158137</td>\n",
       "      <td>-0.327974</td>\n",
       "      <td>-0.084489</td>\n",
       "      <td>-0.015753</td>\n",
       "      <td>5.000000</td>\n",
       "      <td>0.00000</td>\n",
       "    </tr>\n",
       "    <tr>\n",
       "      <td>50%</td>\n",
       "      <td>4563.500000</td>\n",
       "      <td>-0.372799</td>\n",
       "      <td>0.288524</td>\n",
       "      <td>0.944361</td>\n",
       "      <td>0.219861</td>\n",
       "      <td>-0.152769</td>\n",
       "      <td>-0.152566</td>\n",
       "      <td>-0.055585</td>\n",
       "      <td>0.012865</td>\n",
       "      <td>0.805275</td>\n",
       "      <td>...</td>\n",
       "      <td>-0.123273</td>\n",
       "      <td>-0.136746</td>\n",
       "      <td>-0.045794</td>\n",
       "      <td>0.079976</td>\n",
       "      <td>0.121001</td>\n",
       "      <td>0.042865</td>\n",
       "      <td>-0.004568</td>\n",
       "      <td>0.015897</td>\n",
       "      <td>15.950000</td>\n",
       "      <td>0.00000</td>\n",
       "    </tr>\n",
       "    <tr>\n",
       "      <td>75%</td>\n",
       "      <td>10233.250000</td>\n",
       "      <td>1.150864</td>\n",
       "      <td>0.901879</td>\n",
       "      <td>1.602903</td>\n",
       "      <td>1.125666</td>\n",
       "      <td>0.371081</td>\n",
       "      <td>0.505357</td>\n",
       "      <td>0.476280</td>\n",
       "      <td>0.274533</td>\n",
       "      <td>1.506299</td>\n",
       "      <td>...</td>\n",
       "      <td>0.032707</td>\n",
       "      <td>0.247490</td>\n",
       "      <td>0.081665</td>\n",
       "      <td>0.410877</td>\n",
       "      <td>0.359058</td>\n",
       "      <td>0.476394</td>\n",
       "      <td>0.120811</td>\n",
       "      <td>0.077182</td>\n",
       "      <td>50.960000</td>\n",
       "      <td>0.00000</td>\n",
       "    </tr>\n",
       "    <tr>\n",
       "      <td>max</td>\n",
       "      <td>15012.000000</td>\n",
       "      <td>1.960497</td>\n",
       "      <td>8.636214</td>\n",
       "      <td>4.101716</td>\n",
       "      <td>10.463020</td>\n",
       "      <td>34.099309</td>\n",
       "      <td>21.393069</td>\n",
       "      <td>34.303177</td>\n",
       "      <td>5.060381</td>\n",
       "      <td>10.392889</td>\n",
       "      <td>...</td>\n",
       "      <td>22.588989</td>\n",
       "      <td>4.534454</td>\n",
       "      <td>13.876221</td>\n",
       "      <td>3.200201</td>\n",
       "      <td>5.525093</td>\n",
       "      <td>3.517346</td>\n",
       "      <td>8.254376</td>\n",
       "      <td>4.860769</td>\n",
       "      <td>7712.430000</td>\n",
       "      <td>1.00000</td>\n",
       "    </tr>\n",
       "  </tbody>\n",
       "</table>\n",
       "<p>8 rows × 31 columns</p>\n",
       "</div>"
      ],
      "text/plain": [
       "               Time            V1            V2            V3            V4  \\\n",
       "count  10000.000000  10000.000000  10000.000000  10000.000000  10000.000000   \n",
       "mean    5966.033400     -0.241862      0.281949      0.906270      0.264148   \n",
       "std     4473.403739      1.521679      1.308139      1.159154      1.441235   \n",
       "min        0.000000    -27.670569    -34.607649    -15.496222     -4.657545   \n",
       "25%     2072.750000     -1.013283     -0.208342      0.412799     -0.614424   \n",
       "50%     4563.500000     -0.372799      0.288524      0.944361      0.219861   \n",
       "75%    10233.250000      1.150864      0.901879      1.602903      1.125666   \n",
       "max    15012.000000      1.960497      8.636214      4.101716     10.463020   \n",
       "\n",
       "                 V5            V6            V7            V8            V9  \\\n",
       "count  10000.000000  10000.000000  10000.000000  10000.000000  10000.000000   \n",
       "mean      -0.046398      0.133108     -0.071689     -0.064778      0.802224   \n",
       "std        1.182935      1.307311      1.077430      1.259064      1.155198   \n",
       "min      -32.092129    -23.496714    -26.548144    -23.632502     -6.329801   \n",
       "25%       -0.643390     -0.629934     -0.542336     -0.190747      0.070868   \n",
       "50%       -0.152769     -0.152566     -0.055585      0.012865      0.805275   \n",
       "75%        0.371081      0.505357      0.476280      0.274533      1.506299   \n",
       "max       34.099309     21.393069     34.303177      5.060381     10.392889   \n",
       "\n",
       "       ...           V21           V22           V23           V24  \\\n",
       "count  ...  10000.000000  10000.000000  10000.000000  10000.000000   \n",
       "mean   ...     -0.051990     -0.152671     -0.033268      0.021335   \n",
       "std    ...      0.913811      0.631083      0.487814      0.594430   \n",
       "min    ...    -11.468435     -8.527145    -15.144340     -2.512377   \n",
       "25%    ...     -0.268120     -0.549638     -0.174120     -0.327817   \n",
       "50%    ...     -0.123273     -0.136746     -0.045794      0.079976   \n",
       "75%    ...      0.032707      0.247490      0.081665      0.410877   \n",
       "max    ...     22.588989      4.534454     13.876221      3.200201   \n",
       "\n",
       "                V25           V26           V27           V28        Amount  \\\n",
       "count  10000.000000  10000.000000  10000.000000  10000.000000  10000.000000   \n",
       "mean       0.087146      0.108140      0.005518      0.002915     63.030188   \n",
       "std        0.428171      0.562793      0.410868      0.266247    184.486158   \n",
       "min       -2.577363     -1.338556     -7.976100     -3.509250      0.000000   \n",
       "25%       -0.158137     -0.327974     -0.084489     -0.015753      5.000000   \n",
       "50%        0.121001      0.042865     -0.004568      0.015897     15.950000   \n",
       "75%        0.359058      0.476394      0.120811      0.077182     50.960000   \n",
       "max        5.525093      3.517346      8.254376      4.860769   7712.430000   \n",
       "\n",
       "             Class  \n",
       "count  10000.00000  \n",
       "mean       0.00380  \n",
       "std        0.06153  \n",
       "min        0.00000  \n",
       "25%        0.00000  \n",
       "50%        0.00000  \n",
       "75%        0.00000  \n",
       "max        1.00000  \n",
       "\n",
       "[8 rows x 31 columns]"
      ]
     },
     "execution_count": 14,
     "metadata": {},
     "output_type": "execute_result"
    }
   ],
   "source": [
    "df.describe()"
   ]
  },
  {
   "cell_type": "markdown",
   "metadata": {},
   "source": [
    "#### 3.6 Visualizing the data\n",
    "\n",
    "Drawing the scatter plot on Time and Amount columns for the fraudulent transactions and analyze the impacts."
   ]
  },
  {
   "cell_type": "code",
   "execution_count": 22,
   "metadata": {},
   "outputs": [
    {
     "data": {
      "text/plain": [
       "Text(0.5, 1.0, 'Fraudulent amounts with respect to time')"
      ]
     },
     "execution_count": 22,
     "metadata": {},
     "output_type": "execute_result"
    },
    {
     "data": {
      "image/png": "[encoded data removed]",
      "text/plain": [
       "<Figure size 432x288 with 1 Axes>"
      ]
     },
     "metadata": {
      "needs_background": "light"
     },
     "output_type": "display_data"
    }
   ],
   "source": [
    "df_fraud = df[df.Class == 1]\n",
    "plt.scatter(df_fraud.Time, df_fraud.Amount)\n",
    "plt.xlabel(\"Time\")\n",
    "plt.ylabel(\"Amount\")\n",
    "plt.title(\"Fraudulent amounts with respect to time\")"
   ]
  },
  {
   "cell_type": "markdown",
   "metadata": {},
   "source": [
    "__Observation:__\n",
    "\n",
    "- Time does not impact the frequency of frauds.\n",
    "- Most of the fraudulent transactions are less amounts."
   ]
  },
  {
   "cell_type": "markdown",
   "metadata": {},
   "source": [
    "#### 3.7 Checking the number of fradulent transcations in the dataset"
   ]
  },
  {
   "cell_type": "code",
   "execution_count": 24,
   "metadata": {},
   "outputs": [
    {
     "data": {
      "text/plain": [
       "0    9962\n",
       "1      38\n",
       "Name: Class, dtype: int64"
      ]
     },
     "execution_count": 24,
     "metadata": {},
     "output_type": "execute_result"
    }
   ],
   "source": [
    "df.Class.value_counts()"
   ]
  },
  {
   "cell_type": "markdown",
   "metadata": {},
   "source": [
    "We have only 38 fraudulent transactions out of 10k observations in the dataset, which means our dataset is imbalanced."
   ]
  },
  {
   "cell_type": "markdown",
   "metadata": {},
   "source": [
    "#### 3.8 Frequency of distribution of the Amount in fraudulent transactions"
   ]
  },
  {
   "cell_type": "code",
   "execution_count": 30,
   "metadata": {},
   "outputs": [
    {
     "data": {
      "text/plain": [
       "<matplotlib.axes._subplots.AxesSubplot at 0x11c369748>"
      ]
     },
     "execution_count": 30,
     "metadata": {},
     "output_type": "execute_result"
    },
    {
     "data": {
      "image/png": "[encoded data removed]",
      "text/plain": [
       "<Figure size 432x288 with 1 Axes>"
      ]
     },
     "metadata": {
      "needs_background": "light"
     },
     "output_type": "display_data"
    }
   ],
   "source": [
    "df_fraud.Amount.plot.box(grid = True)"
   ]
  },
  {
   "cell_type": "markdown",
   "metadata": {},
   "source": [
    "Frequency of distribution of fraudulent amount is imbalanced as there is only 1 out of 38 fruadulent transactions have amount greated than 1750 and rest are less than 750 only. So, we can consider that one transaction amount as outlier."
   ]
  },
  {
   "cell_type": "markdown",
   "metadata": {},
   "source": [
    "#### 3.9 Visualizing the correlation between the features"
   ]
  },
  {
   "cell_type": "code",
   "execution_count": 39,
   "metadata": {},
   "outputs": [
    {
     "data": {
      "text/plain": [
       "Text(0.5, 1, 'Heatmap Correlation')"
      ]
     },
     "execution_count": 39,
     "metadata": {},
     "output_type": "execute_result"
    },
    {
     "data": {
      "image/png": "[encoded data removed]",
      "text/plain": [
       "<Figure size 1080x720 with 2 Axes>"
      ]
     },
     "metadata": {
      "needs_background": "light"
     },
     "output_type": "display_data"
    }
   ],
   "source": [
    "plt.figure(figsize = (15, 10))\n",
    "sns.heatmap(df.corr())\n",
    "plt.title(\"Heatmap Correlation\")"
   ]
  },
  {
   "cell_type": "markdown",
   "metadata": {},
   "source": [
    "__Observation:__\n",
    "\n",
    "- From above results, we can conclude that features are not correlated to each other.\n",
    "- This is because, the dataset we considered already have performed PCA technique.\n",
    "- This shows that we cannot perform dimensionality reduction again for this dataset.\n",
    "- Vales are also normalized to a certain scale."
   ]
  },
  {
   "cell_type": "markdown",
   "metadata": {},
   "source": [
    "#### 3.10 Finding the features that have correlation with the target variable 'Class'"
   ]
  },
  {
   "cell_type": "code",
   "execution_count": 48,
   "metadata": {},
   "outputs": [
    {
     "data": {
      "text/plain": [
       "Class     1.000000\n",
       "V11       0.297231\n",
       "V4        0.229448\n",
       "V2        0.166618\n",
       "V28       0.081831\n",
       "V27       0.078159\n",
       "V8        0.059615\n",
       "V21       0.053662\n",
       "V20       0.046082\n",
       "Time      0.042762\n",
       "V26       0.022224\n",
       "V19       0.015076\n",
       "Amount    0.004252\n",
       "V23       0.001114\n",
       "V22      -0.001170\n",
       "V15      -0.008601\n",
       "V25      -0.009965\n",
       "V13      -0.023003\n",
       "V24      -0.040781\n",
       "V5       -0.062717\n",
       "V1       -0.063109\n",
       "V6       -0.106040\n",
       "V18      -0.129729\n",
       "V9       -0.164610\n",
       "V7       -0.212425\n",
       "V16      -0.310866\n",
       "V10      -0.344365\n",
       "V12      -0.351070\n",
       "V3       -0.390122\n",
       "V17      -0.407361\n",
       "V14      -0.517690\n",
       "Name: Class, dtype: float64"
      ]
     },
     "execution_count": 48,
     "metadata": {},
     "output_type": "execute_result"
    }
   ],
   "source": [
    "df_corr = df.corr()\n",
    "df_rank = df_corr['Class'].sort_values(ascending = False)\n",
    "df_rank"
   ]
  },
  {
   "cell_type": "markdown",
   "metadata": {},
   "source": [
    "#### 3.11 Data Selection for Sampling\n",
    "\n",
    "As our dataset is imbalanced on Classes of Fraud, we have to take the equal samples on Fraud and Non-Fraudulent transactions to train our model to make it to detect Frauds accurately.\n",
    "\n",
    "- Divide the data into two classes, Fraudulent and Non-Fraudulent.\n",
    "- Take more or less equal amount of samples from Non-Fraudulent transactions.\n",
    "- Merge Both samples.\n",
    "- Mix the dataset."
   ]
  },
  {
   "cell_type": "code",
   "execution_count": 64,
   "metadata": {},
   "outputs": [
    {
     "name": "stdout",
     "output_type": "stream",
     "text": [
      "Fraudulent Transactions :  38\n",
      "Non-Fraudulent Transactions :  9962\n"
     ]
    }
   ],
   "source": [
    "df_Fraud = df[df.Class == 1]\n",
    "df_Non_Fraud = df[df.Class == 0]\n",
    "\n",
    "print(\"Fraudulent Transactions : \", df_Fraud.shape[0])\n",
    "print(\"Non-Fraudulent Transactions : \", df_Non_Fraud.shape[0])"
   ]
  },
  {
   "cell_type": "code",
   "execution_count": 65,
   "metadata": {},
   "outputs": [
    {
     "name": "stdout",
     "output_type": "stream",
     "text": [
      "Sample number of Non-Fraudulent Transactions :  50\n"
     ]
    }
   ],
   "source": [
    "df_sample_Non_Fraud = df_Non_Fraud.sample(50) #We are taking only 50 Non-Fradulent transactions from the data.\n",
    "print(\"Sample number of Non-Fraudulent Transactions : \", df_sample_Non_Fraud.shape[0])"
   ]
  },
  {
   "cell_type": "code",
   "execution_count": 66,
   "metadata": {},
   "outputs": [
    {
     "name": "stdout",
     "output_type": "stream",
     "text": [
      "Sample number of Fradulent and Non-Fraudulent Transactions after Merge :  88\n"
     ]
    }
   ],
   "source": [
    "df_sample = df_Fraud.append(df_sample_Non_Fraud)\n",
    "print(\"Sample number of Fradulent and Non-Fraudulent Transactions after Merge : \", df_sample.shape[0])"
   ]
  },
  {
   "cell_type": "code",
   "execution_count": 67,
   "metadata": {
    "scrolled": true
   },
   "outputs": [
    {
     "data": {
      "text/html": [
       "<div>\n",
       "<style scoped>\n",
       "    .dataframe tbody tr th:only-of-type {\n",
       "        vertical-align: middle;\n",
       "    }\n",
       "\n",
       "    .dataframe tbody tr th {\n",
       "        vertical-align: top;\n",
       "    }\n",
       "\n",
       "    .dataframe thead th {\n",
       "        text-align: right;\n",
       "    }\n",
       "</style>\n",
       "<table border=\"1\" class=\"dataframe\">\n",
       "  <thead>\n",
       "    <tr style=\"text-align: right;\">\n",
       "      <th></th>\n",
       "      <th>Time</th>\n",
       "      <th>V1</th>\n",
       "      <th>V2</th>\n",
       "      <th>V3</th>\n",
       "      <th>V4</th>\n",
       "      <th>V5</th>\n",
       "      <th>V6</th>\n",
       "      <th>V7</th>\n",
       "      <th>V8</th>\n",
       "      <th>V9</th>\n",
       "      <th>...</th>\n",
       "      <th>V21</th>\n",
       "      <th>V22</th>\n",
       "      <th>V23</th>\n",
       "      <th>V24</th>\n",
       "      <th>V25</th>\n",
       "      <th>V26</th>\n",
       "      <th>V27</th>\n",
       "      <th>V28</th>\n",
       "      <th>Amount</th>\n",
       "      <th>Class</th>\n",
       "    </tr>\n",
       "  </thead>\n",
       "  <tbody>\n",
       "    <tr>\n",
       "      <td>9509</td>\n",
       "      <td>14152</td>\n",
       "      <td>-4.710529</td>\n",
       "      <td>8.636214</td>\n",
       "      <td>-15.496222</td>\n",
       "      <td>10.313349</td>\n",
       "      <td>-4.351341</td>\n",
       "      <td>-3.322689</td>\n",
       "      <td>-10.788373</td>\n",
       "      <td>5.060381</td>\n",
       "      <td>-5.689311</td>\n",
       "      <td>...</td>\n",
       "      <td>1.990545</td>\n",
       "      <td>0.223785</td>\n",
       "      <td>0.554408</td>\n",
       "      <td>-1.204042</td>\n",
       "      <td>-0.450685</td>\n",
       "      <td>0.641836</td>\n",
       "      <td>1.605958</td>\n",
       "      <td>0.721644</td>\n",
       "      <td>1.00</td>\n",
       "      <td>1</td>\n",
       "    </tr>\n",
       "    <tr>\n",
       "      <td>9470</td>\n",
       "      <td>14025</td>\n",
       "      <td>-1.854433</td>\n",
       "      <td>0.854424</td>\n",
       "      <td>2.655404</td>\n",
       "      <td>1.256375</td>\n",
       "      <td>-0.707800</td>\n",
       "      <td>-0.279509</td>\n",
       "      <td>0.431302</td>\n",
       "      <td>-0.257062</td>\n",
       "      <td>1.926273</td>\n",
       "      <td>...</td>\n",
       "      <td>-0.197866</td>\n",
       "      <td>0.602518</td>\n",
       "      <td>-0.332229</td>\n",
       "      <td>0.919607</td>\n",
       "      <td>0.496518</td>\n",
       "      <td>-0.189141</td>\n",
       "      <td>0.548609</td>\n",
       "      <td>0.294897</td>\n",
       "      <td>119.58</td>\n",
       "      <td>0</td>\n",
       "    </tr>\n",
       "    <tr>\n",
       "      <td>6609</td>\n",
       "      <td>8090</td>\n",
       "      <td>-1.783229</td>\n",
       "      <td>3.402794</td>\n",
       "      <td>-3.822742</td>\n",
       "      <td>2.625368</td>\n",
       "      <td>-1.976415</td>\n",
       "      <td>-2.731689</td>\n",
       "      <td>-3.430559</td>\n",
       "      <td>1.413204</td>\n",
       "      <td>-0.776941</td>\n",
       "      <td>...</td>\n",
       "      <td>0.454032</td>\n",
       "      <td>-0.577526</td>\n",
       "      <td>0.045967</td>\n",
       "      <td>0.461700</td>\n",
       "      <td>0.044146</td>\n",
       "      <td>0.305704</td>\n",
       "      <td>0.530981</td>\n",
       "      <td>0.243746</td>\n",
       "      <td>1.00</td>\n",
       "      <td>1</td>\n",
       "    </tr>\n",
       "    <tr>\n",
       "      <td>6334</td>\n",
       "      <td>7535</td>\n",
       "      <td>0.026779</td>\n",
       "      <td>4.132464</td>\n",
       "      <td>-6.560600</td>\n",
       "      <td>6.348557</td>\n",
       "      <td>1.329666</td>\n",
       "      <td>-2.513479</td>\n",
       "      <td>-1.689102</td>\n",
       "      <td>0.303253</td>\n",
       "      <td>-3.139409</td>\n",
       "      <td>...</td>\n",
       "      <td>0.370509</td>\n",
       "      <td>-0.576752</td>\n",
       "      <td>-0.669605</td>\n",
       "      <td>-0.759908</td>\n",
       "      <td>1.605056</td>\n",
       "      <td>0.540675</td>\n",
       "      <td>0.737040</td>\n",
       "      <td>0.496699</td>\n",
       "      <td>1.00</td>\n",
       "      <td>1</td>\n",
       "    </tr>\n",
       "    <tr>\n",
       "      <td>8972</td>\n",
       "      <td>12393</td>\n",
       "      <td>-4.064005</td>\n",
       "      <td>3.100935</td>\n",
       "      <td>-1.188498</td>\n",
       "      <td>3.264633</td>\n",
       "      <td>-1.903562</td>\n",
       "      <td>0.320351</td>\n",
       "      <td>-0.954940</td>\n",
       "      <td>-3.277535</td>\n",
       "      <td>2.820829</td>\n",
       "      <td>...</td>\n",
       "      <td>1.688665</td>\n",
       "      <td>-0.078845</td>\n",
       "      <td>0.193731</td>\n",
       "      <td>0.479496</td>\n",
       "      <td>-0.506603</td>\n",
       "      <td>-0.409863</td>\n",
       "      <td>-3.036271</td>\n",
       "      <td>-0.630605</td>\n",
       "      <td>179.66</td>\n",
       "      <td>1</td>\n",
       "    </tr>\n",
       "  </tbody>\n",
       "</table>\n",
       "<p>5 rows × 31 columns</p>\n",
       "</div>"
      ],
      "text/plain": [
       "       Time        V1        V2         V3         V4        V5        V6  \\\n",
       "9509  14152 -4.710529  8.636214 -15.496222  10.313349 -4.351341 -3.322689   \n",
       "9470  14025 -1.854433  0.854424   2.655404   1.256375 -0.707800 -0.279509   \n",
       "6609   8090 -1.783229  3.402794  -3.822742   2.625368 -1.976415 -2.731689   \n",
       "6334   7535  0.026779  4.132464  -6.560600   6.348557  1.329666 -2.513479   \n",
       "8972  12393 -4.064005  3.100935  -1.188498   3.264633 -1.903562  0.320351   \n",
       "\n",
       "             V7        V8        V9  ...       V21       V22       V23  \\\n",
       "9509 -10.788373  5.060381 -5.689311  ...  1.990545  0.223785  0.554408   \n",
       "9470   0.431302 -0.257062  1.926273  ... -0.197866  0.602518 -0.332229   \n",
       "6609  -3.430559  1.413204 -0.776941  ...  0.454032 -0.577526  0.045967   \n",
       "6334  -1.689102  0.303253 -3.139409  ...  0.370509 -0.576752 -0.669605   \n",
       "8972  -0.954940 -3.277535  2.820829  ...  1.688665 -0.078845  0.193731   \n",
       "\n",
       "           V24       V25       V26       V27       V28  Amount  Class  \n",
       "9509 -1.204042 -0.450685  0.641836  1.605958  0.721644    1.00      1  \n",
       "9470  0.919607  0.496518 -0.189141  0.548609  0.294897  119.58      0  \n",
       "6609  0.461700  0.044146  0.305704  0.530981  0.243746    1.00      1  \n",
       "6334 -0.759908  1.605056  0.540675  0.737040  0.496699    1.00      1  \n",
       "8972  0.479496 -0.506603 -0.409863 -3.036271 -0.630605  179.66      1  \n",
       "\n",
       "[5 rows x 31 columns]"
      ]
     },
     "execution_count": 67,
     "metadata": {},
     "output_type": "execute_result"
    }
   ],
   "source": [
    "df_sample = df_sample.sample(frac = 1) #This line mix the transactions inside our new sample dataframe.\n",
    "df_sample.head()"
   ]
  },
  {
   "cell_type": "markdown",
   "metadata": {},
   "source": [
    "### 4. Model Development\n",
    "\n",
    "- Seperating the train and the test set from the sample data frame.\n",
    "- Building the SVM classifier.\n",
    "- Training the SVM model.\n",
    "- Predicting the results.\n",
    "\n",
    "Before seperating our dataset into training set and test set, we need to divide the target variable and predictor variables."
   ]
  },
  {
   "cell_type": "markdown",
   "metadata": {},
   "source": [
    "#### 4.1 Dropping the 'Time' column as it does not impact frauds (As per section 3.6)"
   ]
  },
  {
   "cell_type": "code",
   "execution_count": 69,
   "metadata": {},
   "outputs": [
    {
     "data": {
      "text/html": [
       "<div>\n",
       "<style scoped>\n",
       "    .dataframe tbody tr th:only-of-type {\n",
       "        vertical-align: middle;\n",
       "    }\n",
       "\n",
       "    .dataframe tbody tr th {\n",
       "        vertical-align: top;\n",
       "    }\n",
       "\n",
       "    .dataframe thead th {\n",
       "        text-align: right;\n",
       "    }\n",
       "</style>\n",
       "<table border=\"1\" class=\"dataframe\">\n",
       "  <thead>\n",
       "    <tr style=\"text-align: right;\">\n",
       "      <th></th>\n",
       "      <th>V1</th>\n",
       "      <th>V2</th>\n",
       "      <th>V3</th>\n",
       "      <th>V4</th>\n",
       "      <th>V5</th>\n",
       "      <th>V6</th>\n",
       "      <th>V7</th>\n",
       "      <th>V8</th>\n",
       "      <th>V9</th>\n",
       "      <th>V10</th>\n",
       "      <th>...</th>\n",
       "      <th>V21</th>\n",
       "      <th>V22</th>\n",
       "      <th>V23</th>\n",
       "      <th>V24</th>\n",
       "      <th>V25</th>\n",
       "      <th>V26</th>\n",
       "      <th>V27</th>\n",
       "      <th>V28</th>\n",
       "      <th>Amount</th>\n",
       "      <th>Class</th>\n",
       "    </tr>\n",
       "  </thead>\n",
       "  <tbody>\n",
       "    <tr>\n",
       "      <td>9509</td>\n",
       "      <td>-4.710529</td>\n",
       "      <td>8.636214</td>\n",
       "      <td>-15.496222</td>\n",
       "      <td>10.313349</td>\n",
       "      <td>-4.351341</td>\n",
       "      <td>-3.322689</td>\n",
       "      <td>-10.788373</td>\n",
       "      <td>5.060381</td>\n",
       "      <td>-5.689311</td>\n",
       "      <td>-11.712187</td>\n",
       "      <td>...</td>\n",
       "      <td>1.990545</td>\n",
       "      <td>0.223785</td>\n",
       "      <td>0.554408</td>\n",
       "      <td>-1.204042</td>\n",
       "      <td>-0.450685</td>\n",
       "      <td>0.641836</td>\n",
       "      <td>1.605958</td>\n",
       "      <td>0.721644</td>\n",
       "      <td>1.00</td>\n",
       "      <td>1</td>\n",
       "    </tr>\n",
       "    <tr>\n",
       "      <td>9470</td>\n",
       "      <td>-1.854433</td>\n",
       "      <td>0.854424</td>\n",
       "      <td>2.655404</td>\n",
       "      <td>1.256375</td>\n",
       "      <td>-0.707800</td>\n",
       "      <td>-0.279509</td>\n",
       "      <td>0.431302</td>\n",
       "      <td>-0.257062</td>\n",
       "      <td>1.926273</td>\n",
       "      <td>0.416360</td>\n",
       "      <td>...</td>\n",
       "      <td>-0.197866</td>\n",
       "      <td>0.602518</td>\n",
       "      <td>-0.332229</td>\n",
       "      <td>0.919607</td>\n",
       "      <td>0.496518</td>\n",
       "      <td>-0.189141</td>\n",
       "      <td>0.548609</td>\n",
       "      <td>0.294897</td>\n",
       "      <td>119.58</td>\n",
       "      <td>0</td>\n",
       "    </tr>\n",
       "    <tr>\n",
       "      <td>6609</td>\n",
       "      <td>-1.783229</td>\n",
       "      <td>3.402794</td>\n",
       "      <td>-3.822742</td>\n",
       "      <td>2.625368</td>\n",
       "      <td>-1.976415</td>\n",
       "      <td>-2.731689</td>\n",
       "      <td>-3.430559</td>\n",
       "      <td>1.413204</td>\n",
       "      <td>-0.776941</td>\n",
       "      <td>-6.199882</td>\n",
       "      <td>...</td>\n",
       "      <td>0.454032</td>\n",
       "      <td>-0.577526</td>\n",
       "      <td>0.045967</td>\n",
       "      <td>0.461700</td>\n",
       "      <td>0.044146</td>\n",
       "      <td>0.305704</td>\n",
       "      <td>0.530981</td>\n",
       "      <td>0.243746</td>\n",
       "      <td>1.00</td>\n",
       "      <td>1</td>\n",
       "    </tr>\n",
       "    <tr>\n",
       "      <td>6334</td>\n",
       "      <td>0.026779</td>\n",
       "      <td>4.132464</td>\n",
       "      <td>-6.560600</td>\n",
       "      <td>6.348557</td>\n",
       "      <td>1.329666</td>\n",
       "      <td>-2.513479</td>\n",
       "      <td>-1.689102</td>\n",
       "      <td>0.303253</td>\n",
       "      <td>-3.139409</td>\n",
       "      <td>-6.045468</td>\n",
       "      <td>...</td>\n",
       "      <td>0.370509</td>\n",
       "      <td>-0.576752</td>\n",
       "      <td>-0.669605</td>\n",
       "      <td>-0.759908</td>\n",
       "      <td>1.605056</td>\n",
       "      <td>0.540675</td>\n",
       "      <td>0.737040</td>\n",
       "      <td>0.496699</td>\n",
       "      <td>1.00</td>\n",
       "      <td>1</td>\n",
       "    </tr>\n",
       "    <tr>\n",
       "      <td>8972</td>\n",
       "      <td>-4.064005</td>\n",
       "      <td>3.100935</td>\n",
       "      <td>-1.188498</td>\n",
       "      <td>3.264633</td>\n",
       "      <td>-1.903562</td>\n",
       "      <td>0.320351</td>\n",
       "      <td>-0.954940</td>\n",
       "      <td>-3.277535</td>\n",
       "      <td>2.820829</td>\n",
       "      <td>1.015113</td>\n",
       "      <td>...</td>\n",
       "      <td>1.688665</td>\n",
       "      <td>-0.078845</td>\n",
       "      <td>0.193731</td>\n",
       "      <td>0.479496</td>\n",
       "      <td>-0.506603</td>\n",
       "      <td>-0.409863</td>\n",
       "      <td>-3.036271</td>\n",
       "      <td>-0.630605</td>\n",
       "      <td>179.66</td>\n",
       "      <td>1</td>\n",
       "    </tr>\n",
       "  </tbody>\n",
       "</table>\n",
       "<p>5 rows × 30 columns</p>\n",
       "</div>"
      ],
      "text/plain": [
       "            V1        V2         V3         V4        V5        V6         V7  \\\n",
       "9509 -4.710529  8.636214 -15.496222  10.313349 -4.351341 -3.322689 -10.788373   \n",
       "9470 -1.854433  0.854424   2.655404   1.256375 -0.707800 -0.279509   0.431302   \n",
       "6609 -1.783229  3.402794  -3.822742   2.625368 -1.976415 -2.731689  -3.430559   \n",
       "6334  0.026779  4.132464  -6.560600   6.348557  1.329666 -2.513479  -1.689102   \n",
       "8972 -4.064005  3.100935  -1.188498   3.264633 -1.903562  0.320351  -0.954940   \n",
       "\n",
       "            V8        V9        V10  ...       V21       V22       V23  \\\n",
       "9509  5.060381 -5.689311 -11.712187  ...  1.990545  0.223785  0.554408   \n",
       "9470 -0.257062  1.926273   0.416360  ... -0.197866  0.602518 -0.332229   \n",
       "6609  1.413204 -0.776941  -6.199882  ...  0.454032 -0.577526  0.045967   \n",
       "6334  0.303253 -3.139409  -6.045468  ...  0.370509 -0.576752 -0.669605   \n",
       "8972 -3.277535  2.820829   1.015113  ...  1.688665 -0.078845  0.193731   \n",
       "\n",
       "           V24       V25       V26       V27       V28  Amount  Class  \n",
       "9509 -1.204042 -0.450685  0.641836  1.605958  0.721644    1.00      1  \n",
       "9470  0.919607  0.496518 -0.189141  0.548609  0.294897  119.58      0  \n",
       "6609  0.461700  0.044146  0.305704  0.530981  0.243746    1.00      1  \n",
       "6334 -0.759908  1.605056  0.540675  0.737040  0.496699    1.00      1  \n",
       "8972  0.479496 -0.506603 -0.409863 -3.036271 -0.630605  179.66      1  \n",
       "\n",
       "[5 rows x 30 columns]"
      ]
     },
     "execution_count": 69,
     "metadata": {},
     "output_type": "execute_result"
    }
   ],
   "source": [
    "df_sample.drop(columns = 'Time', axis = 1, inplace = True)\n",
    "df_sample.head()"
   ]
  },
  {
   "cell_type": "markdown",
   "metadata": {},
   "source": [
    "#### 4.2 Seperating the Predictor variable"
   ]
  },
  {
   "cell_type": "code",
   "execution_count": 70,
   "metadata": {},
   "outputs": [
    {
     "data": {
      "text/html": [
       "<div>\n",
       "<style scoped>\n",
       "    .dataframe tbody tr th:only-of-type {\n",
       "        vertical-align: middle;\n",
       "    }\n",
       "\n",
       "    .dataframe tbody tr th {\n",
       "        vertical-align: top;\n",
       "    }\n",
       "\n",
       "    .dataframe thead th {\n",
       "        text-align: right;\n",
       "    }\n",
       "</style>\n",
       "<table border=\"1\" class=\"dataframe\">\n",
       "  <thead>\n",
       "    <tr style=\"text-align: right;\">\n",
       "      <th></th>\n",
       "      <th>V1</th>\n",
       "      <th>V2</th>\n",
       "      <th>V3</th>\n",
       "      <th>V4</th>\n",
       "      <th>V5</th>\n",
       "      <th>V6</th>\n",
       "      <th>V7</th>\n",
       "      <th>V8</th>\n",
       "      <th>V9</th>\n",
       "      <th>V10</th>\n",
       "      <th>...</th>\n",
       "      <th>V20</th>\n",
       "      <th>V21</th>\n",
       "      <th>V22</th>\n",
       "      <th>V23</th>\n",
       "      <th>V24</th>\n",
       "      <th>V25</th>\n",
       "      <th>V26</th>\n",
       "      <th>V27</th>\n",
       "      <th>V28</th>\n",
       "      <th>Amount</th>\n",
       "    </tr>\n",
       "  </thead>\n",
       "  <tbody>\n",
       "    <tr>\n",
       "      <td>9509</td>\n",
       "      <td>-4.710529</td>\n",
       "      <td>8.636214</td>\n",
       "      <td>-15.496222</td>\n",
       "      <td>10.313349</td>\n",
       "      <td>-4.351341</td>\n",
       "      <td>-3.322689</td>\n",
       "      <td>-10.788373</td>\n",
       "      <td>5.060381</td>\n",
       "      <td>-5.689311</td>\n",
       "      <td>-11.712187</td>\n",
       "      <td>...</td>\n",
       "      <td>1.434240</td>\n",
       "      <td>1.990545</td>\n",
       "      <td>0.223785</td>\n",
       "      <td>0.554408</td>\n",
       "      <td>-1.204042</td>\n",
       "      <td>-0.450685</td>\n",
       "      <td>0.641836</td>\n",
       "      <td>1.605958</td>\n",
       "      <td>0.721644</td>\n",
       "      <td>1.00</td>\n",
       "    </tr>\n",
       "    <tr>\n",
       "      <td>9470</td>\n",
       "      <td>-1.854433</td>\n",
       "      <td>0.854424</td>\n",
       "      <td>2.655404</td>\n",
       "      <td>1.256375</td>\n",
       "      <td>-0.707800</td>\n",
       "      <td>-0.279509</td>\n",
       "      <td>0.431302</td>\n",
       "      <td>-0.257062</td>\n",
       "      <td>1.926273</td>\n",
       "      <td>0.416360</td>\n",
       "      <td>...</td>\n",
       "      <td>0.468769</td>\n",
       "      <td>-0.197866</td>\n",
       "      <td>0.602518</td>\n",
       "      <td>-0.332229</td>\n",
       "      <td>0.919607</td>\n",
       "      <td>0.496518</td>\n",
       "      <td>-0.189141</td>\n",
       "      <td>0.548609</td>\n",
       "      <td>0.294897</td>\n",
       "      <td>119.58</td>\n",
       "    </tr>\n",
       "    <tr>\n",
       "      <td>6609</td>\n",
       "      <td>-1.783229</td>\n",
       "      <td>3.402794</td>\n",
       "      <td>-3.822742</td>\n",
       "      <td>2.625368</td>\n",
       "      <td>-1.976415</td>\n",
       "      <td>-2.731689</td>\n",
       "      <td>-3.430559</td>\n",
       "      <td>1.413204</td>\n",
       "      <td>-0.776941</td>\n",
       "      <td>-6.199882</td>\n",
       "      <td>...</td>\n",
       "      <td>0.364089</td>\n",
       "      <td>0.454032</td>\n",
       "      <td>-0.577526</td>\n",
       "      <td>0.045967</td>\n",
       "      <td>0.461700</td>\n",
       "      <td>0.044146</td>\n",
       "      <td>0.305704</td>\n",
       "      <td>0.530981</td>\n",
       "      <td>0.243746</td>\n",
       "      <td>1.00</td>\n",
       "    </tr>\n",
       "    <tr>\n",
       "      <td>6334</td>\n",
       "      <td>0.026779</td>\n",
       "      <td>4.132464</td>\n",
       "      <td>-6.560600</td>\n",
       "      <td>6.348557</td>\n",
       "      <td>1.329666</td>\n",
       "      <td>-2.513479</td>\n",
       "      <td>-1.689102</td>\n",
       "      <td>0.303253</td>\n",
       "      <td>-3.139409</td>\n",
       "      <td>-6.045468</td>\n",
       "      <td>...</td>\n",
       "      <td>0.587743</td>\n",
       "      <td>0.370509</td>\n",
       "      <td>-0.576752</td>\n",
       "      <td>-0.669605</td>\n",
       "      <td>-0.759908</td>\n",
       "      <td>1.605056</td>\n",
       "      <td>0.540675</td>\n",
       "      <td>0.737040</td>\n",
       "      <td>0.496699</td>\n",
       "      <td>1.00</td>\n",
       "    </tr>\n",
       "    <tr>\n",
       "      <td>8972</td>\n",
       "      <td>-4.064005</td>\n",
       "      <td>3.100935</td>\n",
       "      <td>-1.188498</td>\n",
       "      <td>3.264633</td>\n",
       "      <td>-1.903562</td>\n",
       "      <td>0.320351</td>\n",
       "      <td>-0.954940</td>\n",
       "      <td>-3.277535</td>\n",
       "      <td>2.820829</td>\n",
       "      <td>1.015113</td>\n",
       "      <td>...</td>\n",
       "      <td>-0.531898</td>\n",
       "      <td>1.688665</td>\n",
       "      <td>-0.078845</td>\n",
       "      <td>0.193731</td>\n",
       "      <td>0.479496</td>\n",
       "      <td>-0.506603</td>\n",
       "      <td>-0.409863</td>\n",
       "      <td>-3.036271</td>\n",
       "      <td>-0.630605</td>\n",
       "      <td>179.66</td>\n",
       "    </tr>\n",
       "  </tbody>\n",
       "</table>\n",
       "<p>5 rows × 29 columns</p>\n",
       "</div>"
      ],
      "text/plain": [
       "            V1        V2         V3         V4        V5        V6         V7  \\\n",
       "9509 -4.710529  8.636214 -15.496222  10.313349 -4.351341 -3.322689 -10.788373   \n",
       "9470 -1.854433  0.854424   2.655404   1.256375 -0.707800 -0.279509   0.431302   \n",
       "6609 -1.783229  3.402794  -3.822742   2.625368 -1.976415 -2.731689  -3.430559   \n",
       "6334  0.026779  4.132464  -6.560600   6.348557  1.329666 -2.513479  -1.689102   \n",
       "8972 -4.064005  3.100935  -1.188498   3.264633 -1.903562  0.320351  -0.954940   \n",
       "\n",
       "            V8        V9        V10  ...       V20       V21       V22  \\\n",
       "9509  5.060381 -5.689311 -11.712187  ...  1.434240  1.990545  0.223785   \n",
       "9470 -0.257062  1.926273   0.416360  ...  0.468769 -0.197866  0.602518   \n",
       "6609  1.413204 -0.776941  -6.199882  ...  0.364089  0.454032 -0.577526   \n",
       "6334  0.303253 -3.139409  -6.045468  ...  0.587743  0.370509 -0.576752   \n",
       "8972 -3.277535  2.820829   1.015113  ... -0.531898  1.688665 -0.078845   \n",
       "\n",
       "           V23       V24       V25       V26       V27       V28  Amount  \n",
       "9509  0.554408 -1.204042 -0.450685  0.641836  1.605958  0.721644    1.00  \n",
       "9470 -0.332229  0.919607  0.496518 -0.189141  0.548609  0.294897  119.58  \n",
       "6609  0.045967  0.461700  0.044146  0.305704  0.530981  0.243746    1.00  \n",
       "6334 -0.669605 -0.759908  1.605056  0.540675  0.737040  0.496699    1.00  \n",
       "8972  0.193731  0.479496 -0.506603 -0.409863 -3.036271 -0.630605  179.66  \n",
       "\n",
       "[5 rows x 29 columns]"
      ]
     },
     "execution_count": 70,
     "metadata": {},
     "output_type": "execute_result"
    }
   ],
   "source": [
    "X = df_sample.loc[:, df_sample.columns != 'Class']\n",
    "X.head()"
   ]
  },
  {
   "cell_type": "markdown",
   "metadata": {},
   "source": [
    "#### 4.3 Seperating the Target variable"
   ]
  },
  {
   "cell_type": "code",
   "execution_count": 71,
   "metadata": {},
   "outputs": [
    {
     "data": {
      "text/html": [
       "<div>\n",
       "<style scoped>\n",
       "    .dataframe tbody tr th:only-of-type {\n",
       "        vertical-align: middle;\n",
       "    }\n",
       "\n",
       "    .dataframe tbody tr th {\n",
       "        vertical-align: top;\n",
       "    }\n",
       "\n",
       "    .dataframe thead th {\n",
       "        text-align: right;\n",
       "    }\n",
       "</style>\n",
       "<table border=\"1\" class=\"dataframe\">\n",
       "  <thead>\n",
       "    <tr style=\"text-align: right;\">\n",
       "      <th></th>\n",
       "      <th>Class</th>\n",
       "    </tr>\n",
       "  </thead>\n",
       "  <tbody>\n",
       "    <tr>\n",
       "      <td>9509</td>\n",
       "      <td>1</td>\n",
       "    </tr>\n",
       "    <tr>\n",
       "      <td>9470</td>\n",
       "      <td>0</td>\n",
       "    </tr>\n",
       "    <tr>\n",
       "      <td>6609</td>\n",
       "      <td>1</td>\n",
       "    </tr>\n",
       "    <tr>\n",
       "      <td>6334</td>\n",
       "      <td>1</td>\n",
       "    </tr>\n",
       "    <tr>\n",
       "      <td>8972</td>\n",
       "      <td>1</td>\n",
       "    </tr>\n",
       "  </tbody>\n",
       "</table>\n",
       "</div>"
      ],
      "text/plain": [
       "      Class\n",
       "9509      1\n",
       "9470      0\n",
       "6609      1\n",
       "6334      1\n",
       "8972      1"
      ]
     },
     "execution_count": 71,
     "metadata": {},
     "output_type": "execute_result"
    }
   ],
   "source": [
    "Y = df_sample.loc[:, df_sample.columns == 'Class']\n",
    "Y.head()"
   ]
  },
  {
   "cell_type": "markdown",
   "metadata": {},
   "source": [
    "#### 4.4 Seperating the train and test data"
   ]
  },
  {
   "cell_type": "code",
   "execution_count": 109,
   "metadata": {},
   "outputs": [
    {
     "name": "stdout",
     "output_type": "stream",
     "text": [
      "Training set\n",
      "(66, 29)\n",
      "(66, 1)\n",
      "Test set\n",
      "(22, 29)\n",
      "(22, 1)\n"
     ]
    }
   ],
   "source": [
    "from sklearn.model_selection import train_test_split\n",
    "X_train, X_test, Y_train, Y_test = train_test_split(X, Y, test_size = 0.25, random_state = 1)\n",
    "\n",
    "print(\"Training set\")\n",
    "print(X_train.shape)\n",
    "print(Y_train.shape)\n",
    "\n",
    "print(\"Test set\")\n",
    "print(X_test.shape)\n",
    "print(Y_test.shape)"
   ]
  },
  {
   "cell_type": "markdown",
   "metadata": {},
   "source": [
    "#### 4.5 Building the SVM Model (Round 1)"
   ]
  },
  {
   "cell_type": "code",
   "execution_count": 110,
   "metadata": {},
   "outputs": [],
   "source": [
    "from sklearn import svm\n",
    "classifier = svm.SVC(kernel = \"linear\")\n",
    "classifier.fit(X_train, Y_train)\n",
    "Y_pred = classifier.predict(X_test)"
   ]
  },
  {
   "cell_type": "markdown",
   "metadata": {},
   "source": [
    "### 5. Model Evaluation\n",
    "\n",
    "Let's evaluate the accuracy of the model by finding the accuracy score and confusion matrix.\n",
    "\n",
    "#### 5.1 Checking the accuracy of the Model (Round 1)"
   ]
  },
  {
   "cell_type": "code",
   "execution_count": 111,
   "metadata": {},
   "outputs": [
    {
     "name": "stdout",
     "output_type": "stream",
     "text": [
      "Accuracy score :  0.9090909090909091\n",
      "Confusion Matrix :\n",
      "[[10  1]\n",
      " [ 1 10]]\n"
     ]
    }
   ],
   "source": [
    "from sklearn.metrics import accuracy_score, confusion_matrix\n",
    "\n",
    "print(\"Accuracy score : \", accuracy_score(Y_pred, Y_test))\n",
    "\n",
    "print(\"Confusion Matrix :\")\n",
    "print(confusion_matrix(Y_pred, Y_test))"
   ]
  },
  {
   "cell_type": "markdown",
   "metadata": {},
   "source": [
    "From the above results, we can able to see that our model has predicted the fraudulent transactions with __90.9%__ accuracy.\n",
    "\n",
    "Now lets try if we can improve the model accuracy even more by increasing the class weight."
   ]
  },
  {
   "cell_type": "markdown",
   "metadata": {},
   "source": [
    "### 6. Model Improvement"
   ]
  },
  {
   "cell_type": "markdown",
   "metadata": {},
   "source": [
    "#### 6.1 Building the model by modfiying the class weight (Round 2)\n",
    "\n",
    "We are modifying the class weight because, our target is to build the model which can predict all fraudulent transactions accurately. We don't mind in predicting non-fraudulent transactions as fraudulent but our objective is not to miss out predicting fraudulent transcations as non-fraudulent.\n",
    "\n",
    "So, we are increasing the weight on non-fradulent transactions more, not to miss out predicting any fraudulent transactions."
   ]
  },
  {
   "cell_type": "code",
   "execution_count": 112,
   "metadata": {},
   "outputs": [],
   "source": [
    "from sklearn import svm\n",
    "classifier = svm.SVC(kernel = \"linear\", class_weight = {0 : 0.40, 1 : 0.60})\n",
    "classifier.fit(X_train, Y_train)\n",
    "Y_pred1 = classifier.predict(X_test)"
   ]
  },
  {
   "cell_type": "markdown",
   "metadata": {},
   "source": [
    "#### 6.2 Model evaluation after modifying the class weight (Round 2)"
   ]
  },
  {
   "cell_type": "code",
   "execution_count": 114,
   "metadata": {},
   "outputs": [
    {
     "name": "stdout",
     "output_type": "stream",
     "text": [
      "Accuracy score :  0.9090909090909091\n",
      "Confusion Matrix:\n",
      "[[10  1]\n",
      " [ 1 10]]\n"
     ]
    }
   ],
   "source": [
    "print(\"Accuracy score : \", accuracy_score(Y_pred1, Y_test))\n",
    "\n",
    "print(\"Confusion Matrix:\")\n",
    "print(confusion_matrix(Y_pred1, Y_test))"
   ]
  },
  {
   "cell_type": "code",
   "execution_count": null,
   "metadata": {},
   "outputs": [],
   "source": []
  },
  {
   "cell_type": "code",
   "execution_count": null,
   "metadata": {},
   "outputs": [],
   "source": []
  }
 ],
 "metadata": {
  "kernelspec": {
   "display_name": "Python 3",
   "language": "python",
   "name": "python3"
  },
  "language_info": {
   "codemirror_mode": {
    "name": "ipython",
    "version": 3
   },
   "file_extension": ".py",
   "mimetype": "text/x-python",
   "name": "python",
   "nbconvert_exporter": "python",
   "pygments_lexer": "ipython3",
   "version": "3.7.3"
  }
 },
 "nbformat": 4,
 "nbformat_minor": 2
}
